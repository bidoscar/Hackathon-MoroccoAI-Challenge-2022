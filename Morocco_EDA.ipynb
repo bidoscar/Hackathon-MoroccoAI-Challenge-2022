{
  "nbformat": 4,
  "nbformat_minor": 0,
  "metadata": {
    "colab": {
      "provenance": []
    },
    "kernelspec": {
      "name": "python3",
      "display_name": "Python 3"
    },
    "language_info": {
      "name": "python"
    }
  },
  "cells": [
    {
      "cell_type": "markdown",
      "source": [
        "# **Translate**"
      ],
      "metadata": {
        "id": "Cp6cji0JFhuH"
      }
    },
    {
      "cell_type": "code",
      "execution_count": 7,
      "metadata": {
        "colab": {
          "base_uri": "https://localhost:8080/"
        },
        "id": "mdvF41jpPjeD",
        "outputId": "67692fd2-a7d0-4a0d-f08a-a3b610800adf"
      },
      "outputs": [
        {
          "output_type": "stream",
          "name": "stdout",
          "text": [
            "\u001b[K     |████████████████████████████████| 55 kB 2.1 MB/s \n",
            "\u001b[K     |████████████████████████████████| 1.5 MB 9.5 MB/s \n",
            "\u001b[K     |████████████████████████████████| 42 kB 1.2 MB/s \n",
            "\u001b[K     |████████████████████████████████| 53 kB 2.1 MB/s \n",
            "\u001b[K     |████████████████████████████████| 65 kB 3.3 MB/s \n",
            "\u001b[?25h  Building wheel for googletrans (setup.py) ... \u001b[?25l\u001b[?25hdone\n"
          ]
        }
      ],
      "source": [
        "pip install googletrans==3.1.0a0 --quiet"
      ]
    },
    {
      "cell_type": "code",
      "source": [
        "# To test how it works\n",
        "from googletrans import Translator\n",
        "translator = Translator()"
      ],
      "metadata": {
        "id": "7Eg4QWo-Pqso"
      },
      "execution_count": 8,
      "outputs": []
    },
    {
      "cell_type": "code",
      "source": [
        "import pandas as pd\n",
        "import numpy as np\n",
        "import matplotlib.pyplot as plt"
      ],
      "metadata": {
        "id": "d5xvP_dVP9bw"
      },
      "execution_count": 9,
      "outputs": []
    },
    {
      "cell_type": "code",
      "source": [
        "df = pd.read_csv('morocco_scripping_dataset.csv')\n",
        "df.shape"
      ],
      "metadata": {
        "colab": {
          "base_uri": "https://localhost:8080/"
        },
        "id": "eaHK3BvfUmI2",
        "outputId": "e925e9c0-bc6d-479f-a725-b753ee04ce97"
      },
      "execution_count": 12,
      "outputs": [
        {
          "output_type": "execute_result",
          "data": {
            "text/plain": [
              "(1730, 8)"
            ]
          },
          "metadata": {},
          "execution_count": 12
        }
      ]
    },
    {
      "cell_type": "code",
      "source": [
        "df.columns"
      ],
      "metadata": {
        "colab": {
          "base_uri": "https://localhost:8080/"
        },
        "id": "VLuJAkofQJ9w",
        "outputId": "9089ab0f-21e6-4221-8bd6-211f7d170e44"
      },
      "execution_count": 13,
      "outputs": [
        {
          "output_type": "execute_result",
          "data": {
            "text/plain": [
              "Index(['Unnamed: 0', 'Reference_id', 'Category', 'Object_Purchase',\n",
              "       'Public_Purchase', 'Location', 'Start_date', 'End_date'],\n",
              "      dtype='object')"
            ]
          },
          "metadata": {},
          "execution_count": 13
        }
      ]
    },
    {
      "cell_type": "code",
      "source": [
        "# A copy of my database\n",
        "df_trans = df\n",
        "len(df)"
      ],
      "metadata": {
        "colab": {
          "base_uri": "https://localhost:8080/"
        },
        "id": "iv8NMZHmQ2qi",
        "outputId": "4193a136-d4dd-4865-b738-aeb35ecb1290"
      },
      "execution_count": 14,
      "outputs": [
        {
          "output_type": "execute_result",
          "data": {
            "text/plain": [
              "1730"
            ]
          },
          "metadata": {},
          "execution_count": 14
        }
      ]
    },
    {
      "cell_type": "code",
      "source": [
        "# to create new columns with the translation inside\n",
        "# It would take a while, so be patient when runing\n",
        "french_list = ['Category', 'Object_Purchase', 'Public_Purchase']\n",
        "for name in french_list : \n",
        "  new_name = f'{name}_trans'\n",
        "  df_trans[new_name] = df_trans[name]\n",
        "  for i in range(len(df)) : \n",
        "    df_trans[new_name][i] = translator.translate(df[name][i], src='fr', dest=\"en\").text"
      ],
      "metadata": {
        "colab": {
          "base_uri": "https://localhost:8080/"
        },
        "id": "1S3AXVbWQnKz",
        "outputId": "5167434a-b235-4722-b859-f1b1286be1eb"
      },
      "execution_count": 15,
      "outputs": [
        {
          "output_type": "stream",
          "name": "stderr",
          "text": [
            "<ipython-input-15-809db813965f>:8: SettingWithCopyWarning: \n",
            "A value is trying to be set on a copy of a slice from a DataFrame\n",
            "\n",
            "See the caveats in the documentation: https://pandas.pydata.org/pandas-docs/stable/user_guide/indexing.html#returning-a-view-versus-a-copy\n",
            "  df_trans[new_name][i] = translator.translate(df[name][i], src='fr', dest=\"en\").text\n"
          ]
        }
      ]
    },
    {
      "cell_type": "code",
      "source": [
        "# to export the data and download it\n",
        "from google.colab import files\n",
        "df_trans.to_csv('df_morocco_trans.csv', encoding = 'utf-8-sig') \n",
        "files.download('df_morocco_trans.csv')"
      ],
      "metadata": {
        "colab": {
          "base_uri": "https://localhost:8080/",
          "height": 17
        },
        "id": "AsnIoHCyjIUJ",
        "outputId": "83a4a7a6-6be8-4c4e-8914-ed9fa390def2"
      },
      "execution_count": 16,
      "outputs": [
        {
          "output_type": "display_data",
          "data": {
            "text/plain": [
              "<IPython.core.display.Javascript object>"
            ],
            "application/javascript": [
              "\n",
              "    async function download(id, filename, size) {\n",
              "      if (!google.colab.kernel.accessAllowed) {\n",
              "        return;\n",
              "      }\n",
              "      const div = document.createElement('div');\n",
              "      const label = document.createElement('label');\n",
              "      label.textContent = `Downloading \"${filename}\": `;\n",
              "      div.appendChild(label);\n",
              "      const progress = document.createElement('progress');\n",
              "      progress.max = size;\n",
              "      div.appendChild(progress);\n",
              "      document.body.appendChild(div);\n",
              "\n",
              "      const buffers = [];\n",
              "      let downloaded = 0;\n",
              "\n",
              "      const channel = await google.colab.kernel.comms.open(id);\n",
              "      // Send a message to notify the kernel that we're ready.\n",
              "      channel.send({})\n",
              "\n",
              "      for await (const message of channel.messages) {\n",
              "        // Send a message to notify the kernel that we're ready.\n",
              "        channel.send({})\n",
              "        if (message.buffers) {\n",
              "          for (const buffer of message.buffers) {\n",
              "            buffers.push(buffer);\n",
              "            downloaded += buffer.byteLength;\n",
              "            progress.value = downloaded;\n",
              "          }\n",
              "        }\n",
              "      }\n",
              "      const blob = new Blob(buffers, {type: 'application/binary'});\n",
              "      const a = document.createElement('a');\n",
              "      a.href = window.URL.createObjectURL(blob);\n",
              "      a.download = filename;\n",
              "      div.appendChild(a);\n",
              "      a.click();\n",
              "      div.remove();\n",
              "    }\n",
              "  "
            ]
          },
          "metadata": {}
        },
        {
          "output_type": "display_data",
          "data": {
            "text/plain": [
              "<IPython.core.display.Javascript object>"
            ],
            "application/javascript": [
              "download(\"download_995c922b-cb85-4a2b-834e-7b7a1fa257e8\", \"df_morocco_trans.csv\", 733778)"
            ]
          },
          "metadata": {}
        }
      ]
    },
    {
      "cell_type": "code",
      "source": [
        "df_current = df_trans"
      ],
      "metadata": {
        "id": "H1tB7JVembMb"
      },
      "execution_count": 17,
      "outputs": []
    },
    {
      "cell_type": "code",
      "source": [
        "import datetime"
      ],
      "metadata": {
        "id": "BQOfW2vlFBU1"
      },
      "execution_count": 18,
      "outputs": []
    },
    {
      "cell_type": "code",
      "source": [
        "df_current['End_date'] = pd.to_datetime(df_trans['End_date']).dt.date"
      ],
      "metadata": {
        "id": "bFZGj1m3GZt8"
      },
      "execution_count": 19,
      "outputs": []
    },
    {
      "cell_type": "code",
      "source": [
        "datetime_object = datetime.datetime.now()\n",
        "datetime_object = datetime_object.date()\n",
        "datetime_object"
      ],
      "metadata": {
        "colab": {
          "base_uri": "https://localhost:8080/"
        },
        "id": "I_MUDBhIsS0i",
        "outputId": "3eefff64-a4cd-489a-e4e4-54565cb9db3b"
      },
      "execution_count": 20,
      "outputs": [
        {
          "output_type": "execute_result",
          "data": {
            "text/plain": [
              "datetime.date(2022, 12, 17)"
            ]
          },
          "metadata": {},
          "execution_count": 20
        }
      ]
    },
    {
      "cell_type": "code",
      "source": [
        "df_current['Closed'] = df_current['End_date'] < datetime_object"
      ],
      "metadata": {
        "id": "k1GYRkmirgyW"
      },
      "execution_count": 21,
      "outputs": []
    },
    {
      "cell_type": "code",
      "source": [
        "df_current.head()"
      ],
      "metadata": {
        "colab": {
          "base_uri": "https://localhost:8080/",
          "height": 531
        },
        "id": "5FFNZC5TshV1",
        "outputId": "97a36f2b-11b1-49ef-b957-e678f99a2971"
      },
      "execution_count": 22,
      "outputs": [
        {
          "output_type": "execute_result",
          "data": {
            "text/plain": [
              "   Unnamed: 0      Reference_id     Category  \\\n",
              "0           0  01/DSP/SAPT/2022      Travaux   \n",
              "1           1          1CGD2022     Services   \n",
              "2           2    15/2022/CTSA/F  Fournitures   \n",
              "3           3     07/2022/DRSMS  Fournitures   \n",
              "4           4      26139/B3/PIC  Fournitures   \n",
              "\n",
              "                                     Object_Purchase  \\\n",
              "0   APPEL A LA CONCURRENCE POUR LA GESTION DELEGU...   \n",
              "1   Gestion déléguée du centre de traitement et d...   \n",
              "2   PRESTATIONS DE REALISATION DE LA 2ème PHASE D...   \n",
              "3   EQUIPEMENT DE L’HOPITAL DE PROXIMITE D’IMINTA...   \n",
              "4        la Fourniture de Rails Neufs 60 E1 de 36 ml   \n",
              "\n",
              "                                     Public_Purchase  \\\n",
              "0   SOCIETE D'AMENAGEMENT POUR LA RECONVERSION DE...   \n",
              "1                                    Commune d'OUJDA   \n",
              "2            CASABLANCA TRANSPORT EN SITE AMENAGE SA   \n",
              "3   Directeur Régional de la Santé, région Marrak...   \n",
              "4                 OFFICE NATIONAL DES CHEMINS DE FER   \n",
              "\n",
              "                     Location  Start_date    End_date Category_trans  \\\n",
              "0    Wilaya de Tanger Assilah  15/11/2022  2023-04-17          Works   \n",
              "1                 OUJDA-ANGAD  16/12/2022  2023-02-03       Services   \n",
              "2                  CASABLANCA  27/09/2022  2023-02-28     Stationery   \n",
              "3  Wilaya de Marrakech Medina  16/12/2022  2023-08-02     Stationery   \n",
              "4    KENITRA\\nCASABLANCA\\n...  15/12/2022  2023-08-02     Stationery   \n",
              "\n",
              "                               Object_Purchase_trans  \\\n",
              "0  CALL FOR COMPETITION FOR THE DELEGATED MANAGEM...   \n",
              "1  Delegated management of the treatment and reco...   \n",
              "2  SERVICES FOR THE IMPLEMENTATION OF THE 2nd PHA...   \n",
              "3  EQUIPMENT OF THE HOSPITAL OF PROXIMITY OF IMIN...   \n",
              "4             the Supply of New Rails 60 E1 of 36 ml   \n",
              "\n",
              "                               Public_Purchase_trans  Closed  \n",
              "0  DEVELOPMENT COMPANY FOR THE CONVERSION OF THE ...   False  \n",
              "1                              Municipality of OUJDA   False  \n",
              "2            CASABLANCA TRANSPORT EN SITE AMENAGE SA   False  \n",
              "3  Regional Director of Health, Marrakech Safi re...   False  \n",
              "4                           RAILWAYS NATIONAL OFFICE   False  "
            ],
            "text/html": [
              "\n",
              "  <div id=\"df-e6c1d917-29f0-45df-a28e-938754f4463d\">\n",
              "    <div class=\"colab-df-container\">\n",
              "      <div>\n",
              "<style scoped>\n",
              "    .dataframe tbody tr th:only-of-type {\n",
              "        vertical-align: middle;\n",
              "    }\n",
              "\n",
              "    .dataframe tbody tr th {\n",
              "        vertical-align: top;\n",
              "    }\n",
              "\n",
              "    .dataframe thead th {\n",
              "        text-align: right;\n",
              "    }\n",
              "</style>\n",
              "<table border=\"1\" class=\"dataframe\">\n",
              "  <thead>\n",
              "    <tr style=\"text-align: right;\">\n",
              "      <th></th>\n",
              "      <th>Unnamed: 0</th>\n",
              "      <th>Reference_id</th>\n",
              "      <th>Category</th>\n",
              "      <th>Object_Purchase</th>\n",
              "      <th>Public_Purchase</th>\n",
              "      <th>Location</th>\n",
              "      <th>Start_date</th>\n",
              "      <th>End_date</th>\n",
              "      <th>Category_trans</th>\n",
              "      <th>Object_Purchase_trans</th>\n",
              "      <th>Public_Purchase_trans</th>\n",
              "      <th>Closed</th>\n",
              "    </tr>\n",
              "  </thead>\n",
              "  <tbody>\n",
              "    <tr>\n",
              "      <th>0</th>\n",
              "      <td>0</td>\n",
              "      <td>01/DSP/SAPT/2022</td>\n",
              "      <td>Travaux</td>\n",
              "      <td>APPEL A LA CONCURRENCE POUR LA GESTION DELEGU...</td>\n",
              "      <td>SOCIETE D'AMENAGEMENT POUR LA RECONVERSION DE...</td>\n",
              "      <td>Wilaya de Tanger Assilah</td>\n",
              "      <td>15/11/2022</td>\n",
              "      <td>2023-04-17</td>\n",
              "      <td>Works</td>\n",
              "      <td>CALL FOR COMPETITION FOR THE DELEGATED MANAGEM...</td>\n",
              "      <td>DEVELOPMENT COMPANY FOR THE CONVERSION OF THE ...</td>\n",
              "      <td>False</td>\n",
              "    </tr>\n",
              "    <tr>\n",
              "      <th>1</th>\n",
              "      <td>1</td>\n",
              "      <td>1CGD2022</td>\n",
              "      <td>Services</td>\n",
              "      <td>Gestion déléguée du centre de traitement et d...</td>\n",
              "      <td>Commune d'OUJDA</td>\n",
              "      <td>OUJDA-ANGAD</td>\n",
              "      <td>16/12/2022</td>\n",
              "      <td>2023-02-03</td>\n",
              "      <td>Services</td>\n",
              "      <td>Delegated management of the treatment and reco...</td>\n",
              "      <td>Municipality of OUJDA</td>\n",
              "      <td>False</td>\n",
              "    </tr>\n",
              "    <tr>\n",
              "      <th>2</th>\n",
              "      <td>2</td>\n",
              "      <td>15/2022/CTSA/F</td>\n",
              "      <td>Fournitures</td>\n",
              "      <td>PRESTATIONS DE REALISATION DE LA 2ème PHASE D...</td>\n",
              "      <td>CASABLANCA TRANSPORT EN SITE AMENAGE SA</td>\n",
              "      <td>CASABLANCA</td>\n",
              "      <td>27/09/2022</td>\n",
              "      <td>2023-02-28</td>\n",
              "      <td>Stationery</td>\n",
              "      <td>SERVICES FOR THE IMPLEMENTATION OF THE 2nd PHA...</td>\n",
              "      <td>CASABLANCA TRANSPORT EN SITE AMENAGE SA</td>\n",
              "      <td>False</td>\n",
              "    </tr>\n",
              "    <tr>\n",
              "      <th>3</th>\n",
              "      <td>3</td>\n",
              "      <td>07/2022/DRSMS</td>\n",
              "      <td>Fournitures</td>\n",
              "      <td>EQUIPEMENT DE L’HOPITAL DE PROXIMITE D’IMINTA...</td>\n",
              "      <td>Directeur Régional de la Santé, région Marrak...</td>\n",
              "      <td>Wilaya de Marrakech Medina</td>\n",
              "      <td>16/12/2022</td>\n",
              "      <td>2023-08-02</td>\n",
              "      <td>Stationery</td>\n",
              "      <td>EQUIPMENT OF THE HOSPITAL OF PROXIMITY OF IMIN...</td>\n",
              "      <td>Regional Director of Health, Marrakech Safi re...</td>\n",
              "      <td>False</td>\n",
              "    </tr>\n",
              "    <tr>\n",
              "      <th>4</th>\n",
              "      <td>4</td>\n",
              "      <td>26139/B3/PIC</td>\n",
              "      <td>Fournitures</td>\n",
              "      <td>la Fourniture de Rails Neufs 60 E1 de 36 ml</td>\n",
              "      <td>OFFICE NATIONAL DES CHEMINS DE FER</td>\n",
              "      <td>KENITRA\\nCASABLANCA\\n...</td>\n",
              "      <td>15/12/2022</td>\n",
              "      <td>2023-08-02</td>\n",
              "      <td>Stationery</td>\n",
              "      <td>the Supply of New Rails 60 E1 of 36 ml</td>\n",
              "      <td>RAILWAYS NATIONAL OFFICE</td>\n",
              "      <td>False</td>\n",
              "    </tr>\n",
              "  </tbody>\n",
              "</table>\n",
              "</div>\n",
              "      <button class=\"colab-df-convert\" onclick=\"convertToInteractive('df-e6c1d917-29f0-45df-a28e-938754f4463d')\"\n",
              "              title=\"Convert this dataframe to an interactive table.\"\n",
              "              style=\"display:none;\">\n",
              "        \n",
              "  <svg xmlns=\"http://www.w3.org/2000/svg\" height=\"24px\"viewBox=\"0 0 24 24\"\n",
              "       width=\"24px\">\n",
              "    <path d=\"M0 0h24v24H0V0z\" fill=\"none\"/>\n",
              "    <path d=\"M18.56 5.44l.94 2.06.94-2.06 2.06-.94-2.06-.94-.94-2.06-.94 2.06-2.06.94zm-11 1L8.5 8.5l.94-2.06 2.06-.94-2.06-.94L8.5 2.5l-.94 2.06-2.06.94zm10 10l.94 2.06.94-2.06 2.06-.94-2.06-.94-.94-2.06-.94 2.06-2.06.94z\"/><path d=\"M17.41 7.96l-1.37-1.37c-.4-.4-.92-.59-1.43-.59-.52 0-1.04.2-1.43.59L10.3 9.45l-7.72 7.72c-.78.78-.78 2.05 0 2.83L4 21.41c.39.39.9.59 1.41.59.51 0 1.02-.2 1.41-.59l7.78-7.78 2.81-2.81c.8-.78.8-2.07 0-2.86zM5.41 20L4 18.59l7.72-7.72 1.47 1.35L5.41 20z\"/>\n",
              "  </svg>\n",
              "      </button>\n",
              "      \n",
              "  <style>\n",
              "    .colab-df-container {\n",
              "      display:flex;\n",
              "      flex-wrap:wrap;\n",
              "      gap: 12px;\n",
              "    }\n",
              "\n",
              "    .colab-df-convert {\n",
              "      background-color: #E8F0FE;\n",
              "      border: none;\n",
              "      border-radius: 50%;\n",
              "      cursor: pointer;\n",
              "      display: none;\n",
              "      fill: #1967D2;\n",
              "      height: 32px;\n",
              "      padding: 0 0 0 0;\n",
              "      width: 32px;\n",
              "    }\n",
              "\n",
              "    .colab-df-convert:hover {\n",
              "      background-color: #E2EBFA;\n",
              "      box-shadow: 0px 1px 2px rgba(60, 64, 67, 0.3), 0px 1px 3px 1px rgba(60, 64, 67, 0.15);\n",
              "      fill: #174EA6;\n",
              "    }\n",
              "\n",
              "    [theme=dark] .colab-df-convert {\n",
              "      background-color: #3B4455;\n",
              "      fill: #D2E3FC;\n",
              "    }\n",
              "\n",
              "    [theme=dark] .colab-df-convert:hover {\n",
              "      background-color: #434B5C;\n",
              "      box-shadow: 0px 1px 3px 1px rgba(0, 0, 0, 0.15);\n",
              "      filter: drop-shadow(0px 1px 2px rgba(0, 0, 0, 0.3));\n",
              "      fill: #FFFFFF;\n",
              "    }\n",
              "  </style>\n",
              "\n",
              "      <script>\n",
              "        const buttonEl =\n",
              "          document.querySelector('#df-e6c1d917-29f0-45df-a28e-938754f4463d button.colab-df-convert');\n",
              "        buttonEl.style.display =\n",
              "          google.colab.kernel.accessAllowed ? 'block' : 'none';\n",
              "\n",
              "        async function convertToInteractive(key) {\n",
              "          const element = document.querySelector('#df-e6c1d917-29f0-45df-a28e-938754f4463d');\n",
              "          const dataTable =\n",
              "            await google.colab.kernel.invokeFunction('convertToInteractive',\n",
              "                                                     [key], {});\n",
              "          if (!dataTable) return;\n",
              "\n",
              "          const docLinkHtml = 'Like what you see? Visit the ' +\n",
              "            '<a target=\"_blank\" href=https://colab.research.google.com/notebooks/data_table.ipynb>data table notebook</a>'\n",
              "            + ' to learn more about interactive tables.';\n",
              "          element.innerHTML = '';\n",
              "          dataTable['output_type'] = 'display_data';\n",
              "          await google.colab.output.renderOutput(dataTable, element);\n",
              "          const docLink = document.createElement('div');\n",
              "          docLink.innerHTML = docLinkHtml;\n",
              "          element.appendChild(docLink);\n",
              "        }\n",
              "      </script>\n",
              "    </div>\n",
              "  </div>\n",
              "  "
            ]
          },
          "metadata": {},
          "execution_count": 22
        }
      ]
    },
    {
      "cell_type": "markdown",
      "source": [
        "# **Keywords extraction**"
      ],
      "metadata": {
        "id": "Y0j3zWjGFpam"
      }
    },
    {
      "cell_type": "code",
      "source": [
        "df_current_kw = df_current"
      ],
      "metadata": {
        "id": "CY_xZB4mYdf_"
      },
      "execution_count": 23,
      "outputs": []
    },
    {
      "cell_type": "code",
      "source": [
        "from gensim.summarization.summarizer import summarize\n",
        "from gensim.summarization import keywords"
      ],
      "metadata": {
        "id": "YrEGiDlvFsvt"
      },
      "execution_count": 24,
      "outputs": []
    },
    {
      "cell_type": "code",
      "source": [
        "colu = [\"Object_Purchase\", \"Public_Purchase\"]\n",
        "for col in colu : \n",
        "  new_col = f'{col}_kw_fr'\n",
        "  df_current_kw[new_col] = df_current_kw[col]\n",
        "  for i in range(len(df)) : \n",
        "    df_current_kw[new_col][i] = keywords(df_current_kw[col][i], words=1, split = True, lemmatize=True)"
      ],
      "metadata": {
        "colab": {
          "base_uri": "https://localhost:8080/"
        },
        "id": "MV2lsbwvwctc",
        "outputId": "899af9d1-ebc9-4c1f-e691-674ce3f5fc3f"
      },
      "execution_count": 25,
      "outputs": [
        {
          "output_type": "stream",
          "name": "stderr",
          "text": [
            "<ipython-input-25-6824968b1fe3>:6: SettingWithCopyWarning: \n",
            "A value is trying to be set on a copy of a slice from a DataFrame\n",
            "\n",
            "See the caveats in the documentation: https://pandas.pydata.org/pandas-docs/stable/user_guide/indexing.html#returning-a-view-versus-a-copy\n",
            "  df_current_kw[new_col][i] = keywords(df_current_kw[col][i], words=1, split = True, lemmatize=True)\n"
          ]
        }
      ]
    },
    {
      "cell_type": "code",
      "source": [
        "df_current_kw[[\"Object_Purchase_kw_fr\", \"Public_Purchase_kw_fr\"]].head(10)"
      ],
      "metadata": {
        "colab": {
          "base_uri": "https://localhost:8080/",
          "height": 363
        },
        "id": "_FwjOszWwcqa",
        "outputId": "c5d170b4-524d-4679-ee0c-a792c4162dab"
      },
      "execution_count": 26,
      "outputs": [
        {
          "output_type": "execute_result",
          "data": {
            "text/plain": [
              "  Object_Purchase_kw_fr Public_Purchase_kw_fr\n",
              "0                 [par]               [ville]\n",
              "1             [dechets]                    []\n",
              "2               [poste]             [amenage]\n",
              "3                 [lot]              [region]\n",
              "4               [rails]            [national]\n",
              "5           [lumineuse]        [deplacements]\n",
              "6                 [des]            [national]\n",
              "7                 [lot]                    []\n",
              "8                [pour]            [national]\n",
              "9           [regionaux]            [national]"
            ],
            "text/html": [
              "\n",
              "  <div id=\"df-71e8544c-8154-4d23-a0bc-f6c625b263cf\">\n",
              "    <div class=\"colab-df-container\">\n",
              "      <div>\n",
              "<style scoped>\n",
              "    .dataframe tbody tr th:only-of-type {\n",
              "        vertical-align: middle;\n",
              "    }\n",
              "\n",
              "    .dataframe tbody tr th {\n",
              "        vertical-align: top;\n",
              "    }\n",
              "\n",
              "    .dataframe thead th {\n",
              "        text-align: right;\n",
              "    }\n",
              "</style>\n",
              "<table border=\"1\" class=\"dataframe\">\n",
              "  <thead>\n",
              "    <tr style=\"text-align: right;\">\n",
              "      <th></th>\n",
              "      <th>Object_Purchase_kw_fr</th>\n",
              "      <th>Public_Purchase_kw_fr</th>\n",
              "    </tr>\n",
              "  </thead>\n",
              "  <tbody>\n",
              "    <tr>\n",
              "      <th>0</th>\n",
              "      <td>[par]</td>\n",
              "      <td>[ville]</td>\n",
              "    </tr>\n",
              "    <tr>\n",
              "      <th>1</th>\n",
              "      <td>[dechets]</td>\n",
              "      <td>[]</td>\n",
              "    </tr>\n",
              "    <tr>\n",
              "      <th>2</th>\n",
              "      <td>[poste]</td>\n",
              "      <td>[amenage]</td>\n",
              "    </tr>\n",
              "    <tr>\n",
              "      <th>3</th>\n",
              "      <td>[lot]</td>\n",
              "      <td>[region]</td>\n",
              "    </tr>\n",
              "    <tr>\n",
              "      <th>4</th>\n",
              "      <td>[rails]</td>\n",
              "      <td>[national]</td>\n",
              "    </tr>\n",
              "    <tr>\n",
              "      <th>5</th>\n",
              "      <td>[lumineuse]</td>\n",
              "      <td>[deplacements]</td>\n",
              "    </tr>\n",
              "    <tr>\n",
              "      <th>6</th>\n",
              "      <td>[des]</td>\n",
              "      <td>[national]</td>\n",
              "    </tr>\n",
              "    <tr>\n",
              "      <th>7</th>\n",
              "      <td>[lot]</td>\n",
              "      <td>[]</td>\n",
              "    </tr>\n",
              "    <tr>\n",
              "      <th>8</th>\n",
              "      <td>[pour]</td>\n",
              "      <td>[national]</td>\n",
              "    </tr>\n",
              "    <tr>\n",
              "      <th>9</th>\n",
              "      <td>[regionaux]</td>\n",
              "      <td>[national]</td>\n",
              "    </tr>\n",
              "  </tbody>\n",
              "</table>\n",
              "</div>\n",
              "      <button class=\"colab-df-convert\" onclick=\"convertToInteractive('df-71e8544c-8154-4d23-a0bc-f6c625b263cf')\"\n",
              "              title=\"Convert this dataframe to an interactive table.\"\n",
              "              style=\"display:none;\">\n",
              "        \n",
              "  <svg xmlns=\"http://www.w3.org/2000/svg\" height=\"24px\"viewBox=\"0 0 24 24\"\n",
              "       width=\"24px\">\n",
              "    <path d=\"M0 0h24v24H0V0z\" fill=\"none\"/>\n",
              "    <path d=\"M18.56 5.44l.94 2.06.94-2.06 2.06-.94-2.06-.94-.94-2.06-.94 2.06-2.06.94zm-11 1L8.5 8.5l.94-2.06 2.06-.94-2.06-.94L8.5 2.5l-.94 2.06-2.06.94zm10 10l.94 2.06.94-2.06 2.06-.94-2.06-.94-.94-2.06-.94 2.06-2.06.94z\"/><path d=\"M17.41 7.96l-1.37-1.37c-.4-.4-.92-.59-1.43-.59-.52 0-1.04.2-1.43.59L10.3 9.45l-7.72 7.72c-.78.78-.78 2.05 0 2.83L4 21.41c.39.39.9.59 1.41.59.51 0 1.02-.2 1.41-.59l7.78-7.78 2.81-2.81c.8-.78.8-2.07 0-2.86zM5.41 20L4 18.59l7.72-7.72 1.47 1.35L5.41 20z\"/>\n",
              "  </svg>\n",
              "      </button>\n",
              "      \n",
              "  <style>\n",
              "    .colab-df-container {\n",
              "      display:flex;\n",
              "      flex-wrap:wrap;\n",
              "      gap: 12px;\n",
              "    }\n",
              "\n",
              "    .colab-df-convert {\n",
              "      background-color: #E8F0FE;\n",
              "      border: none;\n",
              "      border-radius: 50%;\n",
              "      cursor: pointer;\n",
              "      display: none;\n",
              "      fill: #1967D2;\n",
              "      height: 32px;\n",
              "      padding: 0 0 0 0;\n",
              "      width: 32px;\n",
              "    }\n",
              "\n",
              "    .colab-df-convert:hover {\n",
              "      background-color: #E2EBFA;\n",
              "      box-shadow: 0px 1px 2px rgba(60, 64, 67, 0.3), 0px 1px 3px 1px rgba(60, 64, 67, 0.15);\n",
              "      fill: #174EA6;\n",
              "    }\n",
              "\n",
              "    [theme=dark] .colab-df-convert {\n",
              "      background-color: #3B4455;\n",
              "      fill: #D2E3FC;\n",
              "    }\n",
              "\n",
              "    [theme=dark] .colab-df-convert:hover {\n",
              "      background-color: #434B5C;\n",
              "      box-shadow: 0px 1px 3px 1px rgba(0, 0, 0, 0.15);\n",
              "      filter: drop-shadow(0px 1px 2px rgba(0, 0, 0, 0.3));\n",
              "      fill: #FFFFFF;\n",
              "    }\n",
              "  </style>\n",
              "\n",
              "      <script>\n",
              "        const buttonEl =\n",
              "          document.querySelector('#df-71e8544c-8154-4d23-a0bc-f6c625b263cf button.colab-df-convert');\n",
              "        buttonEl.style.display =\n",
              "          google.colab.kernel.accessAllowed ? 'block' : 'none';\n",
              "\n",
              "        async function convertToInteractive(key) {\n",
              "          const element = document.querySelector('#df-71e8544c-8154-4d23-a0bc-f6c625b263cf');\n",
              "          const dataTable =\n",
              "            await google.colab.kernel.invokeFunction('convertToInteractive',\n",
              "                                                     [key], {});\n",
              "          if (!dataTable) return;\n",
              "\n",
              "          const docLinkHtml = 'Like what you see? Visit the ' +\n",
              "            '<a target=\"_blank\" href=https://colab.research.google.com/notebooks/data_table.ipynb>data table notebook</a>'\n",
              "            + ' to learn more about interactive tables.';\n",
              "          element.innerHTML = '';\n",
              "          dataTable['output_type'] = 'display_data';\n",
              "          await google.colab.output.renderOutput(dataTable, element);\n",
              "          const docLink = document.createElement('div');\n",
              "          docLink.innerHTML = docLinkHtml;\n",
              "          element.appendChild(docLink);\n",
              "        }\n",
              "      </script>\n",
              "    </div>\n",
              "  </div>\n",
              "  "
            ]
          },
          "metadata": {},
          "execution_count": 26
        }
      ]
    },
    {
      "cell_type": "code",
      "source": [
        "df_current.dtypes"
      ],
      "metadata": {
        "colab": {
          "base_uri": "https://localhost:8080/"
        },
        "id": "G-qYgipM7CEY",
        "outputId": "3c74cfbf-b8f4-4e0c-bb17-af8c8012a5d3"
      },
      "execution_count": 27,
      "outputs": [
        {
          "output_type": "execute_result",
          "data": {
            "text/plain": [
              "Unnamed: 0                int64\n",
              "Reference_id             object\n",
              "Category                 object\n",
              "Object_Purchase          object\n",
              "Public_Purchase          object\n",
              "Location                 object\n",
              "Start_date               object\n",
              "End_date                 object\n",
              "Category_trans           object\n",
              "Object_Purchase_trans    object\n",
              "Public_Purchase_trans    object\n",
              "Closed                     bool\n",
              "Object_Purchase_kw_fr    object\n",
              "Public_Purchase_kw_fr    object\n",
              "dtype: object"
            ]
          },
          "metadata": {},
          "execution_count": 27
        }
      ]
    },
    {
      "cell_type": "markdown",
      "source": [
        "# **Variables creation**"
      ],
      "metadata": {
        "id": "UyOZQQLw43zg"
      }
    },
    {
      "cell_type": "code",
      "source": [
        "df_current['Start_date'] = pd.to_datetime(df_current['Start_date']).dt.date"
      ],
      "metadata": {
        "id": "USYVRlRFmqIg"
      },
      "execution_count": 28,
      "outputs": []
    },
    {
      "cell_type": "code",
      "source": [
        "df_current['Duration'] = df_current['End_date'] - df_current['Start_date']"
      ],
      "metadata": {
        "id": "md5KbcfgmSL4"
      },
      "execution_count": 29,
      "outputs": []
    },
    {
      "cell_type": "code",
      "source": [
        "df_current['Start_month'] = pd.to_datetime(df_current['Start_date']).dt.month"
      ],
      "metadata": {
        "id": "YXRG-ZMboKE5"
      },
      "execution_count": 30,
      "outputs": []
    },
    {
      "cell_type": "code",
      "source": [
        "df_current['End_month'] = pd.to_datetime(df_current['End_date']).dt.month"
      ],
      "metadata": {
        "id": "GHzH-ZyC3oqy"
      },
      "execution_count": 31,
      "outputs": []
    },
    {
      "cell_type": "code",
      "source": [
        "df_current['End_year'] = pd.to_datetime(df_current['End_date']).dt.year"
      ],
      "metadata": {
        "id": "OJZpVUv74-D6"
      },
      "execution_count": 32,
      "outputs": []
    },
    {
      "cell_type": "code",
      "source": [],
      "metadata": {
        "id": "N1evC2C14-BR"
      },
      "execution_count": null,
      "outputs": []
    },
    {
      "cell_type": "code",
      "source": [
        "#Converting the numeric variables in release_day to string\n",
        "mapper = {1:'January',2:'February',3:'March',4:'April',5:'May',6:'June',7:'July',8:'August',9:'September',10:'October',11:'November',12:'December'}\n",
        "df_current['Start_month'] = df_current['Start_month'].map(mapper)"
      ],
      "metadata": {
        "id": "GGgrIU-gprFs"
      },
      "execution_count": 33,
      "outputs": []
    },
    {
      "cell_type": "code",
      "source": [
        "df_current['End_month'] = df_current['End_month'].map(mapper)"
      ],
      "metadata": {
        "id": "E6JwuVa14fMm"
      },
      "execution_count": 34,
      "outputs": []
    },
    {
      "cell_type": "code",
      "source": [
        "df_current.head(10)"
      ],
      "metadata": {
        "colab": {
          "base_uri": "https://localhost:8080/",
          "height": 913
        },
        "id": "weh9LrXvwcmw",
        "outputId": "c9b677fb-8449-4e14-b241-1f276d739c43"
      },
      "execution_count": 35,
      "outputs": [
        {
          "output_type": "execute_result",
          "data": {
            "text/plain": [
              "   Unnamed: 0      Reference_id     Category  \\\n",
              "0           0  01/DSP/SAPT/2022      Travaux   \n",
              "1           1          1CGD2022     Services   \n",
              "2           2    15/2022/CTSA/F  Fournitures   \n",
              "3           3     07/2022/DRSMS  Fournitures   \n",
              "4           4      26139/B3/PIC  Fournitures   \n",
              "5           5           10/2022  Fournitures   \n",
              "6           6    147/2022/DR9/C      Travaux   \n",
              "7           7           87/2022     Services   \n",
              "8           8       27121/E1/PM  Fournitures   \n",
              "9           9          P5518/PV  Fournitures   \n",
              "\n",
              "                                     Object_Purchase  \\\n",
              "0   APPEL A LA CONCURRENCE POUR LA GESTION DELEGU...   \n",
              "1   Gestion déléguée du centre de traitement et d...   \n",
              "2   PRESTATIONS DE REALISATION DE LA 2ème PHASE D...   \n",
              "3   EQUIPEMENT DE L’HOPITAL DE PROXIMITE D’IMINTA...   \n",
              "4        la Fourniture de Rails Neufs 60 E1 de 36 ml   \n",
              "5   Fourniture et pose de la signalisation lumine...   \n",
              "6   Réhabilitation des installations d’AEP d’Al H...   \n",
              "7   Entretien et maintenance de la plateforme mat...   \n",
              "8   FOURNITURE DE KIT POUR SYSTEME DE FERMETURE S...   \n",
              "9   Fourniture et installation d’un système d’aff...   \n",
              "\n",
              "                                     Public_Purchase  \\\n",
              "0   SOCIETE D'AMENAGEMENT POUR LA RECONVERSION DE...   \n",
              "1                                    Commune d'OUJDA   \n",
              "2            CASABLANCA TRANSPORT EN SITE AMENAGE SA   \n",
              "3   Directeur Régional de la Santé, région Marrak...   \n",
              "4                 OFFICE NATIONAL DES CHEMINS DE FER   \n",
              "5   Société de développement local \" GRAND AGADIR...   \n",
              "6   OFFICE NATIONAL DE L'ELECTRICITE ET DE L'EAU ...   \n",
              "7                           MINISTERE DE L'INTERIEUR   \n",
              "8                 OFFICE NATIONAL DES CHEMINS DE FER   \n",
              "9                 OFFICE NATIONAL DES CHEMINS DE FER   \n",
              "\n",
              "                     Location  Start_date    End_date Category_trans  \\\n",
              "0    Wilaya de Tanger Assilah  2022-11-15  2023-04-17          Works   \n",
              "1                 OUJDA-ANGAD  2022-12-16  2023-02-03       Services   \n",
              "2                  CASABLANCA  2022-09-27  2023-02-28     Stationery   \n",
              "3  Wilaya de Marrakech Medina  2022-12-16  2023-08-02     Stationery   \n",
              "4    KENITRA\\nCASABLANCA\\n...  2022-12-15  2023-08-02     Stationery   \n",
              "5        AGADIR IDA OU TANANE  2022-02-12  2023-02-02     Stationery   \n",
              "6                  AL HOCEIMA  2022-12-14  2023-01-02          Works   \n",
              "7           MAROC\\nRABAT\\n...  2022-12-16  2023-01-02       Services   \n",
              "8                  CASABLANCA  2022-08-12  2023-01-02     Stationery   \n",
              "9     OUJDA-ANGAD\\nNADOR\\n...  2022-12-12  2023-01-02     Stationery   \n",
              "\n",
              "                               Object_Purchase_trans  \\\n",
              "0  CALL FOR COMPETITION FOR THE DELEGATED MANAGEM...   \n",
              "1  Delegated management of the treatment and reco...   \n",
              "2  SERVICES FOR THE IMPLEMENTATION OF THE 2nd PHA...   \n",
              "3  EQUIPMENT OF THE HOSPITAL OF PROXIMITY OF IMIN...   \n",
              "4             the Supply of New Rails 60 E1 of 36 ml   \n",
              "5  Supply and installation of tricolor light sign...   \n",
              "6  Rehabilitation of DWS facilities in Al Hoceima...   \n",
              "7  Upkeep and maintenance of the hardware and sof...   \n",
              "8  KIT SUPPLY FOR SEMI-AUTOMATIC DOOR CLOSING SYSTEM   \n",
              "9  Supply and installation of a centralized dynam...   \n",
              "\n",
              "                               Public_Purchase_trans  Closed  \\\n",
              "0  DEVELOPMENT COMPANY FOR THE CONVERSION OF THE ...   False   \n",
              "1                              Municipality of OUJDA   False   \n",
              "2            CASABLANCA TRANSPORT EN SITE AMENAGE SA   False   \n",
              "3  Regional Director of Health, Marrakech Safi re...   False   \n",
              "4                           RAILWAYS NATIONAL OFFICE   False   \n",
              "5  Local development company \"GREAT AGADIR FOR MO...   False   \n",
              "6  NATIONAL OFFICE FOR ELECTRICITY AND DRINKING W...   False   \n",
              "7                           MINISTRY OF THE INTERIOR   False   \n",
              "8                           RAILWAYS NATIONAL OFFICE   False   \n",
              "9                           RAILWAYS NATIONAL OFFICE   False   \n",
              "\n",
              "  Object_Purchase_kw_fr Public_Purchase_kw_fr Duration Start_month End_month  \\\n",
              "0                 [par]               [ville] 153 days    November     April   \n",
              "1             [dechets]                    []  49 days    December  February   \n",
              "2               [poste]             [amenage] 154 days   September  February   \n",
              "3                 [lot]              [region] 229 days    December    August   \n",
              "4               [rails]            [national] 230 days    December    August   \n",
              "5           [lumineuse]        [deplacements] 355 days    February  February   \n",
              "6                 [des]            [national]  19 days    December   January   \n",
              "7                 [lot]                    []  17 days    December   January   \n",
              "8                [pour]            [national] 143 days      August   January   \n",
              "9           [regionaux]            [national]  21 days    December   January   \n",
              "\n",
              "   End_year  \n",
              "0      2023  \n",
              "1      2023  \n",
              "2      2023  \n",
              "3      2023  \n",
              "4      2023  \n",
              "5      2023  \n",
              "6      2023  \n",
              "7      2023  \n",
              "8      2023  \n",
              "9      2023  "
            ],
            "text/html": [
              "\n",
              "  <div id=\"df-548b1742-3c46-49de-9d85-ef32d20a1f5b\">\n",
              "    <div class=\"colab-df-container\">\n",
              "      <div>\n",
              "<style scoped>\n",
              "    .dataframe tbody tr th:only-of-type {\n",
              "        vertical-align: middle;\n",
              "    }\n",
              "\n",
              "    .dataframe tbody tr th {\n",
              "        vertical-align: top;\n",
              "    }\n",
              "\n",
              "    .dataframe thead th {\n",
              "        text-align: right;\n",
              "    }\n",
              "</style>\n",
              "<table border=\"1\" class=\"dataframe\">\n",
              "  <thead>\n",
              "    <tr style=\"text-align: right;\">\n",
              "      <th></th>\n",
              "      <th>Unnamed: 0</th>\n",
              "      <th>Reference_id</th>\n",
              "      <th>Category</th>\n",
              "      <th>Object_Purchase</th>\n",
              "      <th>Public_Purchase</th>\n",
              "      <th>Location</th>\n",
              "      <th>Start_date</th>\n",
              "      <th>End_date</th>\n",
              "      <th>Category_trans</th>\n",
              "      <th>Object_Purchase_trans</th>\n",
              "      <th>Public_Purchase_trans</th>\n",
              "      <th>Closed</th>\n",
              "      <th>Object_Purchase_kw_fr</th>\n",
              "      <th>Public_Purchase_kw_fr</th>\n",
              "      <th>Duration</th>\n",
              "      <th>Start_month</th>\n",
              "      <th>End_month</th>\n",
              "      <th>End_year</th>\n",
              "    </tr>\n",
              "  </thead>\n",
              "  <tbody>\n",
              "    <tr>\n",
              "      <th>0</th>\n",
              "      <td>0</td>\n",
              "      <td>01/DSP/SAPT/2022</td>\n",
              "      <td>Travaux</td>\n",
              "      <td>APPEL A LA CONCURRENCE POUR LA GESTION DELEGU...</td>\n",
              "      <td>SOCIETE D'AMENAGEMENT POUR LA RECONVERSION DE...</td>\n",
              "      <td>Wilaya de Tanger Assilah</td>\n",
              "      <td>2022-11-15</td>\n",
              "      <td>2023-04-17</td>\n",
              "      <td>Works</td>\n",
              "      <td>CALL FOR COMPETITION FOR THE DELEGATED MANAGEM...</td>\n",
              "      <td>DEVELOPMENT COMPANY FOR THE CONVERSION OF THE ...</td>\n",
              "      <td>False</td>\n",
              "      <td>[par]</td>\n",
              "      <td>[ville]</td>\n",
              "      <td>153 days</td>\n",
              "      <td>November</td>\n",
              "      <td>April</td>\n",
              "      <td>2023</td>\n",
              "    </tr>\n",
              "    <tr>\n",
              "      <th>1</th>\n",
              "      <td>1</td>\n",
              "      <td>1CGD2022</td>\n",
              "      <td>Services</td>\n",
              "      <td>Gestion déléguée du centre de traitement et d...</td>\n",
              "      <td>Commune d'OUJDA</td>\n",
              "      <td>OUJDA-ANGAD</td>\n",
              "      <td>2022-12-16</td>\n",
              "      <td>2023-02-03</td>\n",
              "      <td>Services</td>\n",
              "      <td>Delegated management of the treatment and reco...</td>\n",
              "      <td>Municipality of OUJDA</td>\n",
              "      <td>False</td>\n",
              "      <td>[dechets]</td>\n",
              "      <td>[]</td>\n",
              "      <td>49 days</td>\n",
              "      <td>December</td>\n",
              "      <td>February</td>\n",
              "      <td>2023</td>\n",
              "    </tr>\n",
              "    <tr>\n",
              "      <th>2</th>\n",
              "      <td>2</td>\n",
              "      <td>15/2022/CTSA/F</td>\n",
              "      <td>Fournitures</td>\n",
              "      <td>PRESTATIONS DE REALISATION DE LA 2ème PHASE D...</td>\n",
              "      <td>CASABLANCA TRANSPORT EN SITE AMENAGE SA</td>\n",
              "      <td>CASABLANCA</td>\n",
              "      <td>2022-09-27</td>\n",
              "      <td>2023-02-28</td>\n",
              "      <td>Stationery</td>\n",
              "      <td>SERVICES FOR THE IMPLEMENTATION OF THE 2nd PHA...</td>\n",
              "      <td>CASABLANCA TRANSPORT EN SITE AMENAGE SA</td>\n",
              "      <td>False</td>\n",
              "      <td>[poste]</td>\n",
              "      <td>[amenage]</td>\n",
              "      <td>154 days</td>\n",
              "      <td>September</td>\n",
              "      <td>February</td>\n",
              "      <td>2023</td>\n",
              "    </tr>\n",
              "    <tr>\n",
              "      <th>3</th>\n",
              "      <td>3</td>\n",
              "      <td>07/2022/DRSMS</td>\n",
              "      <td>Fournitures</td>\n",
              "      <td>EQUIPEMENT DE L’HOPITAL DE PROXIMITE D’IMINTA...</td>\n",
              "      <td>Directeur Régional de la Santé, région Marrak...</td>\n",
              "      <td>Wilaya de Marrakech Medina</td>\n",
              "      <td>2022-12-16</td>\n",
              "      <td>2023-08-02</td>\n",
              "      <td>Stationery</td>\n",
              "      <td>EQUIPMENT OF THE HOSPITAL OF PROXIMITY OF IMIN...</td>\n",
              "      <td>Regional Director of Health, Marrakech Safi re...</td>\n",
              "      <td>False</td>\n",
              "      <td>[lot]</td>\n",
              "      <td>[region]</td>\n",
              "      <td>229 days</td>\n",
              "      <td>December</td>\n",
              "      <td>August</td>\n",
              "      <td>2023</td>\n",
              "    </tr>\n",
              "    <tr>\n",
              "      <th>4</th>\n",
              "      <td>4</td>\n",
              "      <td>26139/B3/PIC</td>\n",
              "      <td>Fournitures</td>\n",
              "      <td>la Fourniture de Rails Neufs 60 E1 de 36 ml</td>\n",
              "      <td>OFFICE NATIONAL DES CHEMINS DE FER</td>\n",
              "      <td>KENITRA\\nCASABLANCA\\n...</td>\n",
              "      <td>2022-12-15</td>\n",
              "      <td>2023-08-02</td>\n",
              "      <td>Stationery</td>\n",
              "      <td>the Supply of New Rails 60 E1 of 36 ml</td>\n",
              "      <td>RAILWAYS NATIONAL OFFICE</td>\n",
              "      <td>False</td>\n",
              "      <td>[rails]</td>\n",
              "      <td>[national]</td>\n",
              "      <td>230 days</td>\n",
              "      <td>December</td>\n",
              "      <td>August</td>\n",
              "      <td>2023</td>\n",
              "    </tr>\n",
              "    <tr>\n",
              "      <th>5</th>\n",
              "      <td>5</td>\n",
              "      <td>10/2022</td>\n",
              "      <td>Fournitures</td>\n",
              "      <td>Fourniture et pose de la signalisation lumine...</td>\n",
              "      <td>Société de développement local \" GRAND AGADIR...</td>\n",
              "      <td>AGADIR IDA OU TANANE</td>\n",
              "      <td>2022-02-12</td>\n",
              "      <td>2023-02-02</td>\n",
              "      <td>Stationery</td>\n",
              "      <td>Supply and installation of tricolor light sign...</td>\n",
              "      <td>Local development company \"GREAT AGADIR FOR MO...</td>\n",
              "      <td>False</td>\n",
              "      <td>[lumineuse]</td>\n",
              "      <td>[deplacements]</td>\n",
              "      <td>355 days</td>\n",
              "      <td>February</td>\n",
              "      <td>February</td>\n",
              "      <td>2023</td>\n",
              "    </tr>\n",
              "    <tr>\n",
              "      <th>6</th>\n",
              "      <td>6</td>\n",
              "      <td>147/2022/DR9/C</td>\n",
              "      <td>Travaux</td>\n",
              "      <td>Réhabilitation des installations d’AEP d’Al H...</td>\n",
              "      <td>OFFICE NATIONAL DE L'ELECTRICITE ET DE L'EAU ...</td>\n",
              "      <td>AL HOCEIMA</td>\n",
              "      <td>2022-12-14</td>\n",
              "      <td>2023-01-02</td>\n",
              "      <td>Works</td>\n",
              "      <td>Rehabilitation of DWS facilities in Al Hoceima...</td>\n",
              "      <td>NATIONAL OFFICE FOR ELECTRICITY AND DRINKING W...</td>\n",
              "      <td>False</td>\n",
              "      <td>[des]</td>\n",
              "      <td>[national]</td>\n",
              "      <td>19 days</td>\n",
              "      <td>December</td>\n",
              "      <td>January</td>\n",
              "      <td>2023</td>\n",
              "    </tr>\n",
              "    <tr>\n",
              "      <th>7</th>\n",
              "      <td>7</td>\n",
              "      <td>87/2022</td>\n",
              "      <td>Services</td>\n",
              "      <td>Entretien et maintenance de la plateforme mat...</td>\n",
              "      <td>MINISTERE DE L'INTERIEUR</td>\n",
              "      <td>MAROC\\nRABAT\\n...</td>\n",
              "      <td>2022-12-16</td>\n",
              "      <td>2023-01-02</td>\n",
              "      <td>Services</td>\n",
              "      <td>Upkeep and maintenance of the hardware and sof...</td>\n",
              "      <td>MINISTRY OF THE INTERIOR</td>\n",
              "      <td>False</td>\n",
              "      <td>[lot]</td>\n",
              "      <td>[]</td>\n",
              "      <td>17 days</td>\n",
              "      <td>December</td>\n",
              "      <td>January</td>\n",
              "      <td>2023</td>\n",
              "    </tr>\n",
              "    <tr>\n",
              "      <th>8</th>\n",
              "      <td>8</td>\n",
              "      <td>27121/E1/PM</td>\n",
              "      <td>Fournitures</td>\n",
              "      <td>FOURNITURE DE KIT POUR SYSTEME DE FERMETURE S...</td>\n",
              "      <td>OFFICE NATIONAL DES CHEMINS DE FER</td>\n",
              "      <td>CASABLANCA</td>\n",
              "      <td>2022-08-12</td>\n",
              "      <td>2023-01-02</td>\n",
              "      <td>Stationery</td>\n",
              "      <td>KIT SUPPLY FOR SEMI-AUTOMATIC DOOR CLOSING SYSTEM</td>\n",
              "      <td>RAILWAYS NATIONAL OFFICE</td>\n",
              "      <td>False</td>\n",
              "      <td>[pour]</td>\n",
              "      <td>[national]</td>\n",
              "      <td>143 days</td>\n",
              "      <td>August</td>\n",
              "      <td>January</td>\n",
              "      <td>2023</td>\n",
              "    </tr>\n",
              "    <tr>\n",
              "      <th>9</th>\n",
              "      <td>9</td>\n",
              "      <td>P5518/PV</td>\n",
              "      <td>Fournitures</td>\n",
              "      <td>Fourniture et installation d’un système d’aff...</td>\n",
              "      <td>OFFICE NATIONAL DES CHEMINS DE FER</td>\n",
              "      <td>OUJDA-ANGAD\\nNADOR\\n...</td>\n",
              "      <td>2022-12-12</td>\n",
              "      <td>2023-01-02</td>\n",
              "      <td>Stationery</td>\n",
              "      <td>Supply and installation of a centralized dynam...</td>\n",
              "      <td>RAILWAYS NATIONAL OFFICE</td>\n",
              "      <td>False</td>\n",
              "      <td>[regionaux]</td>\n",
              "      <td>[national]</td>\n",
              "      <td>21 days</td>\n",
              "      <td>December</td>\n",
              "      <td>January</td>\n",
              "      <td>2023</td>\n",
              "    </tr>\n",
              "  </tbody>\n",
              "</table>\n",
              "</div>\n",
              "      <button class=\"colab-df-convert\" onclick=\"convertToInteractive('df-548b1742-3c46-49de-9d85-ef32d20a1f5b')\"\n",
              "              title=\"Convert this dataframe to an interactive table.\"\n",
              "              style=\"display:none;\">\n",
              "        \n",
              "  <svg xmlns=\"http://www.w3.org/2000/svg\" height=\"24px\"viewBox=\"0 0 24 24\"\n",
              "       width=\"24px\">\n",
              "    <path d=\"M0 0h24v24H0V0z\" fill=\"none\"/>\n",
              "    <path d=\"M18.56 5.44l.94 2.06.94-2.06 2.06-.94-2.06-.94-.94-2.06-.94 2.06-2.06.94zm-11 1L8.5 8.5l.94-2.06 2.06-.94-2.06-.94L8.5 2.5l-.94 2.06-2.06.94zm10 10l.94 2.06.94-2.06 2.06-.94-2.06-.94-.94-2.06-.94 2.06-2.06.94z\"/><path d=\"M17.41 7.96l-1.37-1.37c-.4-.4-.92-.59-1.43-.59-.52 0-1.04.2-1.43.59L10.3 9.45l-7.72 7.72c-.78.78-.78 2.05 0 2.83L4 21.41c.39.39.9.59 1.41.59.51 0 1.02-.2 1.41-.59l7.78-7.78 2.81-2.81c.8-.78.8-2.07 0-2.86zM5.41 20L4 18.59l7.72-7.72 1.47 1.35L5.41 20z\"/>\n",
              "  </svg>\n",
              "      </button>\n",
              "      \n",
              "  <style>\n",
              "    .colab-df-container {\n",
              "      display:flex;\n",
              "      flex-wrap:wrap;\n",
              "      gap: 12px;\n",
              "    }\n",
              "\n",
              "    .colab-df-convert {\n",
              "      background-color: #E8F0FE;\n",
              "      border: none;\n",
              "      border-radius: 50%;\n",
              "      cursor: pointer;\n",
              "      display: none;\n",
              "      fill: #1967D2;\n",
              "      height: 32px;\n",
              "      padding: 0 0 0 0;\n",
              "      width: 32px;\n",
              "    }\n",
              "\n",
              "    .colab-df-convert:hover {\n",
              "      background-color: #E2EBFA;\n",
              "      box-shadow: 0px 1px 2px rgba(60, 64, 67, 0.3), 0px 1px 3px 1px rgba(60, 64, 67, 0.15);\n",
              "      fill: #174EA6;\n",
              "    }\n",
              "\n",
              "    [theme=dark] .colab-df-convert {\n",
              "      background-color: #3B4455;\n",
              "      fill: #D2E3FC;\n",
              "    }\n",
              "\n",
              "    [theme=dark] .colab-df-convert:hover {\n",
              "      background-color: #434B5C;\n",
              "      box-shadow: 0px 1px 3px 1px rgba(0, 0, 0, 0.15);\n",
              "      filter: drop-shadow(0px 1px 2px rgba(0, 0, 0, 0.3));\n",
              "      fill: #FFFFFF;\n",
              "    }\n",
              "  </style>\n",
              "\n",
              "      <script>\n",
              "        const buttonEl =\n",
              "          document.querySelector('#df-548b1742-3c46-49de-9d85-ef32d20a1f5b button.colab-df-convert');\n",
              "        buttonEl.style.display =\n",
              "          google.colab.kernel.accessAllowed ? 'block' : 'none';\n",
              "\n",
              "        async function convertToInteractive(key) {\n",
              "          const element = document.querySelector('#df-548b1742-3c46-49de-9d85-ef32d20a1f5b');\n",
              "          const dataTable =\n",
              "            await google.colab.kernel.invokeFunction('convertToInteractive',\n",
              "                                                     [key], {});\n",
              "          if (!dataTable) return;\n",
              "\n",
              "          const docLinkHtml = 'Like what you see? Visit the ' +\n",
              "            '<a target=\"_blank\" href=https://colab.research.google.com/notebooks/data_table.ipynb>data table notebook</a>'\n",
              "            + ' to learn more about interactive tables.';\n",
              "          element.innerHTML = '';\n",
              "          dataTable['output_type'] = 'display_data';\n",
              "          await google.colab.output.renderOutput(dataTable, element);\n",
              "          const docLink = document.createElement('div');\n",
              "          docLink.innerHTML = docLinkHtml;\n",
              "          element.appendChild(docLink);\n",
              "        }\n",
              "      </script>\n",
              "    </div>\n",
              "  </div>\n",
              "  "
            ]
          },
          "metadata": {},
          "execution_count": 35
        }
      ]
    },
    {
      "cell_type": "markdown",
      "source": [
        "# **Category**"
      ],
      "metadata": {
        "id": "LYkJ-A5b3UGT"
      }
    },
    {
      "cell_type": "code",
      "source": [
        "df_current['Category'].value_counts()"
      ],
      "metadata": {
        "colab": {
          "base_uri": "https://localhost:8080/"
        },
        "id": "WpDkV0Pg0QG3",
        "outputId": "fde5d3bb-76bb-4096-b5ba-9d0af3efa742"
      },
      "execution_count": 36,
      "outputs": [
        {
          "output_type": "execute_result",
          "data": {
            "text/plain": [
              "Services       711\n",
              "Travaux        674\n",
              "Fournitures    345\n",
              "Name: Category, dtype: int64"
            ]
          },
          "metadata": {},
          "execution_count": 36
        }
      ]
    },
    {
      "cell_type": "code",
      "source": [
        "df_current['Category'].value_counts(normalize=True)*100"
      ],
      "metadata": {
        "colab": {
          "base_uri": "https://localhost:8080/"
        },
        "id": "535fNHyQ01GL",
        "outputId": "bf5971aa-1b99-4e5e-9432-6ec5257a1e0e"
      },
      "execution_count": 37,
      "outputs": [
        {
          "output_type": "execute_result",
          "data": {
            "text/plain": [
              "Services       41.098266\n",
              "Travaux        38.959538\n",
              "Fournitures    19.942197\n",
              "Name: Category, dtype: float64"
            ]
          },
          "metadata": {},
          "execution_count": 37
        }
      ]
    },
    {
      "cell_type": "code",
      "source": [
        "import seaborn as sns\n",
        "#Define Seaborn color palette to use\n",
        "colors = sns.color_palette(\"flare\")"
      ],
      "metadata": {
        "id": "76pDKVjG1zis"
      },
      "execution_count": 38,
      "outputs": []
    },
    {
      "cell_type": "code",
      "source": [
        "df_current['Category'].value_counts().plot(kind = 'pie', colors = colors, autopct='%.0f%%')\n",
        "plt.show()"
      ],
      "metadata": {
        "colab": {
          "base_uri": "https://localhost:8080/",
          "height": 248
        },
        "id": "3IJ3T3DH0QDN",
        "outputId": "37ff9f32-f908-478e-84dd-99dbc7c8fa75"
      },
      "execution_count": 39,
      "outputs": [
        {
          "output_type": "display_data",
          "data": {
            "text/plain": [
              "<Figure size 432x288 with 1 Axes>"
            ],
            "image/png": "[encoded data removed]"
          },
          "metadata": {}
        }
      ]
    },
    {
      "cell_type": "markdown",
      "source": [
        "# **Location**"
      ],
      "metadata": {
        "id": "HxvacYVv4037"
      }
    },
    {
      "cell_type": "code",
      "source": [
        "df_current['Location'].value_counts()"
      ],
      "metadata": {
        "colab": {
          "base_uri": "https://localhost:8080/"
        },
        "id": "GCUM3Fkw3hA9",
        "outputId": "66d57608-e313-4588-ae6a-737a1a31ee8d"
      },
      "execution_count": 56,
      "outputs": [
        {
          "output_type": "execute_result",
          "data": {
            "text/plain": [
              "RABAT                                 130\n",
              "CASABLANCA                             99\n",
              "MARRAKECH                              60\n",
              "TANGER-ASSILAH\\nMDIQ-FNIDEQ\\n...       42\n",
              "TANGER-ASSILAH                         36\n",
              "                                     ... \n",
              "GUELMIM\\nTAN-TAN\\n...                   1\n",
              "Province de Sidi Kacem\\nMAROC\\n...      1\n",
              "Province d'Al Hoceima                   1\n",
              "CASABLANCA\\nMARRAKECH\\n...              1\n",
              "MAROC\\nOUARZAZATE\\n...                  1\n",
              "Name: Location, Length: 235, dtype: int64"
            ]
          },
          "metadata": {},
          "execution_count": 56
        }
      ]
    },
    {
      "cell_type": "code",
      "source": [
        "df_current['Location'].value_counts()[:10].plot(kind='barh')\n",
        "plt.title('Top 10 Locations')\n",
        "plt.xlabel('Frequency')\n",
        "plt.ylabel('Location')\n",
        "plt.show()"
      ],
      "metadata": {
        "colab": {
          "base_uri": "https://localhost:8080/",
          "height": 295
        },
        "id": "i9E45Szy4G1h",
        "outputId": "a6dd1b8b-5121-42f2-b3f4-e6cdad2a028e"
      },
      "execution_count": 41,
      "outputs": [
        {
          "output_type": "display_data",
          "data": {
            "text/plain": [
              "<Figure size 432x288 with 1 Axes>"
            ],
            "image/png": "[encoded data removed]"
          },
          "metadata": {
            "needs_background": "light"
          }
        }
      ]
    },
    {
      "cell_type": "markdown",
      "source": [
        "# **Duration**"
      ],
      "metadata": {
        "id": "UkHt4ZoP5xnW"
      }
    },
    {
      "cell_type": "code",
      "source": [
        "df_current['Duration'].value_counts()"
      ],
      "metadata": {
        "colab": {
          "base_uri": "https://localhost:8080/"
        },
        "id": "ygtTs1Gm5xO_",
        "outputId": "692a6d8d-b438-4cd5-9981-67d1ea05b1cc"
      },
      "execution_count": 42,
      "outputs": [
        {
          "output_type": "execute_result",
          "data": {
            "text/plain": [
              "23 days     131\n",
              "22 days      84\n",
              "24 days      78\n",
              "25 days      77\n",
              "26 days      71\n",
              "           ... \n",
              "204 days      1\n",
              "369 days      1\n",
              "81 days       1\n",
              "86 days       1\n",
              "5 days        1\n",
              "Name: Duration, Length: 194, dtype: int64"
            ]
          },
          "metadata": {},
          "execution_count": 42
        }
      ]
    },
    {
      "cell_type": "code",
      "source": [
        "df_current['Duration'].value_counts()[:6].plot(kind='barh')\n",
        "plt.title('Top 6 Duration')\n",
        "plt.xlabel('Frequency')\n",
        "plt.ylabel('Duration')\n",
        "plt.show()"
      ],
      "metadata": {
        "id": "fPDA2Wlm0QAS",
        "colab": {
          "base_uri": "https://localhost:8080/",
          "height": 295
        },
        "outputId": "63301479-493a-459f-e634-4bcbc4d372c0"
      },
      "execution_count": 43,
      "outputs": [
        {
          "output_type": "display_data",
          "data": {
            "text/plain": [
              "<Figure size 432x288 with 1 Axes>"
            ],
            "image/png": "[encoded data removed]"
          },
          "metadata": {
            "needs_background": "light"
          }
        }
      ]
    },
    {
      "cell_type": "code",
      "source": [
        "df_current['Start_month'].value_counts().plot(kind='barh')\n",
        "plt.title('Start month distribution')\n",
        "plt.xlabel('Frequency')\n",
        "plt.ylabel('Month')\n",
        "plt.show()"
      ],
      "metadata": {
        "colab": {
          "base_uri": "https://localhost:8080/",
          "height": 295
        },
        "id": "37zzDfdLobsi",
        "outputId": "ac593add-27f9-47e8-928e-3567838f6a5f"
      },
      "execution_count": 57,
      "outputs": [
        {
          "output_type": "display_data",
          "data": {
            "text/plain": [
              "<Figure size 432x288 with 1 Axes>"
            ],
            "image/png": "[encoded data removed]"
          },
          "metadata": {
            "needs_background": "light"
          }
        }
      ]
    },
    {
      "cell_type": "code",
      "source": [
        "df_current['Duration'].describe()"
      ],
      "metadata": {
        "colab": {
          "base_uri": "https://localhost:8080/"
        },
        "id": "nlJjza9ruAWP",
        "outputId": "46c90045-029d-42e6-a814-c9086dd634f3"
      },
      "execution_count": 45,
      "outputs": [
        {
          "output_type": "execute_result",
          "data": {
            "text/plain": [
              "count                           1730\n",
              "mean     139 days 23:27:32.254335260\n",
              "std      125 days 06:33:52.676242986\n",
              "min                  4 days 00:00:00\n",
              "25%                 26 days 00:00:00\n",
              "50%                108 days 12:00:00\n",
              "75%                232 days 00:00:00\n",
              "max                688 days 00:00:00\n",
              "Name: Duration, dtype: object"
            ]
          },
          "metadata": {},
          "execution_count": 45
        }
      ]
    },
    {
      "cell_type": "code",
      "source": [
        "df_current.groupby('Start_month')['Category'].value_counts()"
      ],
      "metadata": {
        "colab": {
          "base_uri": "https://localhost:8080/"
        },
        "id": "42_Ck73vobpb",
        "outputId": "c2f76384-16b4-4b5f-da4f-c5ec92b3e704"
      },
      "execution_count": 46,
      "outputs": [
        {
          "output_type": "execute_result",
          "data": {
            "text/plain": [
              "Start_month  Category   \n",
              "April        Services         9\n",
              "             Fournitures      7\n",
              "             Travaux          7\n",
              "August       Services        42\n",
              "             Travaux         36\n",
              "             Fournitures     13\n",
              "December     Travaux        114\n",
              "             Services        83\n",
              "             Fournitures     52\n",
              "February     Services        62\n",
              "             Travaux         54\n",
              "             Fournitures     16\n",
              "January      Services        30\n",
              "             Travaux         30\n",
              "             Fournitures     20\n",
              "July         Services        34\n",
              "             Travaux         33\n",
              "             Fournitures     19\n",
              "June         Services        38\n",
              "             Travaux         25\n",
              "             Fournitures     19\n",
              "March        Services         8\n",
              "             Travaux          6\n",
              "             Fournitures      5\n",
              "May          Travaux         50\n",
              "             Services        38\n",
              "             Fournitures     16\n",
              "November     Services       329\n",
              "             Travaux        295\n",
              "             Fournitures    161\n",
              "October      Services         8\n",
              "             Fournitures      6\n",
              "             Travaux          6\n",
              "September    Services        30\n",
              "             Travaux         18\n",
              "             Fournitures     11\n",
              "Name: Category, dtype: int64"
            ]
          },
          "metadata": {},
          "execution_count": 46
        }
      ]
    },
    {
      "cell_type": "code",
      "source": [
        "i = 1\n",
        "plt.figure(figsize = (20,10))\n",
        "for month in df_current['Start_month'].unique() :\n",
        "  plt.subplot(3,4,i)\n",
        "  df_current[df_current['Start_month'] == month]['Category'].value_counts().plot(kind='bar')\n",
        "  plt.title(month)\n",
        "  i = i + 1\n",
        "plt.show()"
      ],
      "metadata": {
        "colab": {
          "base_uri": "https://localhost:8080/",
          "height": 534
        },
        "id": "qVU0Qe6Uobml",
        "outputId": "83aac500-173b-40f8-beff-9d7be54fbe76"
      },
      "execution_count": 47,
      "outputs": [
        {
          "output_type": "display_data",
          "data": {
            "text/plain": [
              "<Figure size 1440x720 with 12 Axes>"
            ],
            "image/png": "[encoded data removed]"
          },
          "metadata": {
            "needs_background": "light"
          }
        }
      ]
    },
    {
      "cell_type": "markdown",
      "source": [
        "# **Closed offers**"
      ],
      "metadata": {
        "id": "MnA47t2LxQgs"
      }
    },
    {
      "cell_type": "code",
      "source": [
        "plt.figure(figsize=(10,8))\n",
        "df_current['Closed'].value_counts().plot(kind='pie', colors=colors, autopct='%.0f%%')\n",
        "plt.show()"
      ],
      "metadata": {
        "colab": {
          "base_uri": "https://localhost:8080/",
          "height": 466
        },
        "id": "mUC1qjRRxWfi",
        "outputId": "04f6fc01-457f-4749-ceee-fb5f082439ce"
      },
      "execution_count": 48,
      "outputs": [
        {
          "output_type": "display_data",
          "data": {
            "text/plain": [
              "<Figure size 720x576 with 1 Axes>"
            ],
            "image/png": "[encoded data removed]"
          },
          "metadata": {}
        }
      ]
    },
    {
      "cell_type": "code",
      "source": [
        "i = 1\n",
        "plt.figure(figsize = (20,10))\n",
        "for cat in df_current['Category'].unique() :\n",
        "  plt.subplot(1,3,i)\n",
        "  df_current[df_current['Category'] == cat]['Closed'].value_counts().plot(kind='pie', colors=colors, autopct='%.0f%%')\n",
        "  plt.title(cat)\n",
        "  i = i + 1\n",
        "plt.show()"
      ],
      "metadata": {
        "colab": {
          "base_uri": "https://localhost:8080/",
          "height": 311
        },
        "id": "sjPXsEASobjx",
        "outputId": "e017363f-e30b-49b3-f694-d899bcf5d1cb"
      },
      "execution_count": 49,
      "outputs": [
        {
          "output_type": "display_data",
          "data": {
            "text/plain": [
              "<Figure size 1440x720 with 3 Axes>"
            ],
            "image/png": "[encoded data removed]"
          },
          "metadata": {}
        }
      ]
    },
    {
      "cell_type": "code",
      "source": [
        "df_current['Location'][df['Closed']==True].value_counts()[:10]"
      ],
      "metadata": {
        "colab": {
          "base_uri": "https://localhost:8080/"
        },
        "id": "w-grkLSq18N3",
        "outputId": "5aed6633-2c2a-419b-bcbf-49a947dfbb07"
      },
      "execution_count": 50,
      "outputs": [
        {
          "output_type": "execute_result",
          "data": {
            "text/plain": [
              "RABAT                               9\n",
              "MARRAKECH                           6\n",
              "TANGER-ASSILAH\\nMDIQ-FNIDEQ\\n...    5\n",
              "KHOURIBGA                           3\n",
              "MAROC\\nKHENIFRA\\n...                3\n",
              "TANGER-ASSILAH                      3\n",
              "SALE                                2\n",
              "SIDI SLIMANE                        2\n",
              "CASABLANCA                          2\n",
              "SETTAT                              2\n",
              "Name: Location, dtype: int64"
            ]
          },
          "metadata": {},
          "execution_count": 50
        }
      ]
    },
    {
      "cell_type": "code",
      "source": [
        "df_current['Location'][df['Closed']==True].value_counts()[:10].plot(kind='barh')\n",
        "plt.title('Top 10 Closed Locations')\n",
        "plt.xlabel('Frequency')\n",
        "plt.ylabel('Location')\n",
        "plt.show()"
      ],
      "metadata": {
        "colab": {
          "base_uri": "https://localhost:8080/",
          "height": 295
        },
        "id": "xjKAPd870ORW",
        "outputId": "b3522e74-5135-41e0-e140-b67bc1a2537d"
      },
      "execution_count": 51,
      "outputs": [
        {
          "output_type": "display_data",
          "data": {
            "text/plain": [
              "<Figure size 432x288 with 1 Axes>"
            ],
            "image/png": "[encoded data removed]"
          },
          "metadata": {
            "needs_background": "light"
          }
        }
      ]
    },
    {
      "cell_type": "markdown",
      "source": [
        "# **End month**"
      ],
      "metadata": {
        "id": "NE3LaUTm4RLI"
      }
    },
    {
      "cell_type": "code",
      "source": [
        "df_current['End_month'].value_counts().plot(kind='barh')\n",
        "plt.title('End month distribution')\n",
        "plt.xlabel('Frequency')\n",
        "plt.ylabel('Month')\n",
        "plt.show()"
      ],
      "metadata": {
        "colab": {
          "base_uri": "https://localhost:8080/",
          "height": 295
        },
        "id": "WcSrybVy0OK6",
        "outputId": "be9c448d-aab7-4e61-fad4-5b09502f4d46"
      },
      "execution_count": 52,
      "outputs": [
        {
          "output_type": "display_data",
          "data": {
            "text/plain": [
              "<Figure size 432x288 with 1 Axes>"
            ],
            "image/png": "[encoded data removed]"
          },
          "metadata": {
            "needs_background": "light"
          }
        }
      ]
    },
    {
      "cell_type": "code",
      "source": [
        "plt.figure(figsize=(10,10))\n",
        "i = 1\n",
        "for year in df_current['End_year'].unique():\n",
        "  plt.subplot(1,2,i)\n",
        "  df_current['End_month'][df_current['End_year'] == year].value_counts().plot(kind='barh')\n",
        "  plt.title(year)\n",
        "  plt.xlabel('Frequency')\n",
        "  plt.ylabel('Month')\n",
        "  i+=1\n",
        "plt.show()"
      ],
      "metadata": {
        "colab": {
          "base_uri": "https://localhost:8080/",
          "height": 621
        },
        "id": "8AIMuvWR0OH2",
        "outputId": "533e0844-8191-4ff5-e534-406c78f46793"
      },
      "execution_count": 55,
      "outputs": [
        {
          "output_type": "display_data",
          "data": {
            "text/plain": [
              "<Figure size 720x720 with 2 Axes>"
            ],
            "image/png": "[encoded data removed]"
          },
          "metadata": {
            "needs_background": "light"
          }
        }
      ]
    },
    {
      "cell_type": "code",
      "source": [
        "# to export the data and download it\n",
        "from google.colab import files\n",
        "df_current.to_csv('Final_morocco_after_EDA.csv', encoding = 'utf-8-sig') \n",
        "files.download('Final_morocco_after_EDA.csv')"
      ],
      "metadata": {
        "colab": {
          "base_uri": "https://localhost:8080/",
          "height": 17
        },
        "id": "RgZ9R7WHvE7B",
        "outputId": "1185086d-b8b3-4b25-f42a-3118cec99db8"
      },
      "execution_count": 54,
      "outputs": [
        {
          "output_type": "display_data",
          "data": {
            "text/plain": [
              "<IPython.core.display.Javascript object>"
            ],
            "application/javascript": [
              "\n",
              "    async function download(id, filename, size) {\n",
              "      if (!google.colab.kernel.accessAllowed) {\n",
              "        return;\n",
              "      }\n",
              "      const div = document.createElement('div');\n",
              "      const label = document.createElement('label');\n",
              "      label.textContent = `Downloading \"${filename}\": `;\n",
              "      div.appendChild(label);\n",
              "      const progress = document.createElement('progress');\n",
              "      progress.max = size;\n",
              "      div.appendChild(progress);\n",
              "      document.body.appendChild(div);\n",
              "\n",
              "      const buffers = [];\n",
              "      let downloaded = 0;\n",
              "\n",
              "      const channel = await google.colab.kernel.comms.open(id);\n",
              "      // Send a message to notify the kernel that we're ready.\n",
              "      channel.send({})\n",
              "\n",
              "      for await (const message of channel.messages) {\n",
              "        // Send a message to notify the kernel that we're ready.\n",
              "        channel.send({})\n",
              "        if (message.buffers) {\n",
              "          for (const buffer of message.buffers) {\n",
              "            buffers.push(buffer);\n",
              "            downloaded += buffer.byteLength;\n",
              "            progress.value = downloaded;\n",
              "          }\n",
              "        }\n",
              "      }\n",
              "      const blob = new Blob(buffers, {type: 'application/binary'});\n",
              "      const a = document.createElement('a');\n",
              "      a.href = window.URL.createObjectURL(blob);\n",
              "      a.download = filename;\n",
              "      div.appendChild(a);\n",
              "      a.click();\n",
              "      div.remove();\n",
              "    }\n",
              "  "
            ]
          },
          "metadata": {}
        },
        {
          "output_type": "display_data",
          "data": {
            "text/plain": [
              "<IPython.core.display.Javascript object>"
            ],
            "application/javascript": [
              "download(\"download_fe5a25d2-ba9d-44be-bde6-3c1739d779ef\", \"final_morocco.csv\", 818107)"
            ]
          },
          "metadata": {}
        }
      ]
    },
    {
      "cell_type": "code",
      "source": [],
      "metadata": {
        "id": "UbjxWlWCobco"
      },
      "execution_count": null,
      "outputs": []
    },
    {
      "cell_type": "code",
      "source": [],
      "metadata": {
        "id": "-nvJHBN0obXf"
      },
      "execution_count": null,
      "outputs": []
    },
    {
      "cell_type": "code",
      "source": [],
      "metadata": {
        "id": "y1wZNmz7wcez"
      },
      "execution_count": null,
      "outputs": []
    }
  ]
}