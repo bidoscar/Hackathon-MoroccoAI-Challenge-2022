{
  "nbformat": 4,
  "nbformat_minor": 0,
  "metadata": {
    "colab": {
      "provenance": []
    },
    "kernelspec": {
      "name": "python3",
      "display_name": "Python 3"
    },
    "language_info": {
      "name": "python"
    }
  },
  "cells": [
    {
      "cell_type": "code",
      "execution_count": 1,
      "metadata": {
        "id": "qKw5XM_tDKEb"
      },
      "outputs": [],
      "source": [
        "import pandas as pd\n",
        "import numpy as np\n",
        "import matplotlib.pyplot as plt"
      ]
    },
    {
      "cell_type": "code",
      "source": [
        "df = pd.read_csv('ghana_scripping_dataset.csv')"
      ],
      "metadata": {
        "id": "hnbA63MdDN5H"
      },
      "execution_count": 2,
      "outputs": []
    },
    {
      "cell_type": "code",
      "source": [
        "# A copy of my database\n",
        "df_trans = df\n",
        "len(df)"
      ],
      "metadata": {
        "colab": {
          "base_uri": "https://localhost:8080/"
        },
        "id": "Q3CpaIEGDRrI",
        "outputId": "1da381f0-afb7-43e5-a117-413dab145841"
      },
      "execution_count": 3,
      "outputs": [
        {
          "output_type": "execute_result",
          "data": {
            "text/plain": [
              "929"
            ]
          },
          "metadata": {},
          "execution_count": 3
        }
      ]
    },
    {
      "cell_type": "code",
      "source": [
        "df.columns"
      ],
      "metadata": {
        "colab": {
          "base_uri": "https://localhost:8080/"
        },
        "id": "gwWr_YAcDy2I",
        "outputId": "8f804e5d-d931-4bb5-ae6b-b738a6382ce0"
      },
      "execution_count": 4,
      "outputs": [
        {
          "output_type": "execute_result",
          "data": {
            "text/plain": [
              "Index(['Tender_title', 'Procuring_entity', 'Supplier_name', 'Award_date',\n",
              "       'Award_amount'],\n",
              "      dtype='object')"
            ]
          },
          "metadata": {},
          "execution_count": 4
        }
      ]
    },
    {
      "cell_type": "code",
      "source": [
        "df_trans.info()"
      ],
      "metadata": {
        "colab": {
          "base_uri": "https://localhost:8080/"
        },
        "id": "nnmeFl9cKMsA",
        "outputId": "bf35e631-23d5-4da4-f1d5-e7ff463a21ab"
      },
      "execution_count": 5,
      "outputs": [
        {
          "output_type": "stream",
          "name": "stdout",
          "text": [
            "<class 'pandas.core.frame.DataFrame'>\n",
            "RangeIndex: 929 entries, 0 to 928\n",
            "Data columns (total 5 columns):\n",
            " #   Column            Non-Null Count  Dtype \n",
            "---  ------            --------------  ----- \n",
            " 0   Tender_title      929 non-null    object\n",
            " 1   Procuring_entity  929 non-null    object\n",
            " 2   Supplier_name     929 non-null    object\n",
            " 3   Award_date        929 non-null    object\n",
            " 4   Award_amount      517 non-null    object\n",
            "dtypes: object(5)\n",
            "memory usage: 36.4+ KB\n"
          ]
        }
      ]
    },
    {
      "cell_type": "code",
      "source": [
        "df_trans['Award_amount_new'] = df_trans['Award_amount_new'].astype(float)"
      ],
      "metadata": {
        "id": "9ihRYpQRNOTG"
      },
      "execution_count": 7,
      "outputs": []
    },
    {
      "cell_type": "code",
      "source": [
        "df_trans.info()"
      ],
      "metadata": {
        "colab": {
          "base_uri": "https://localhost:8080/"
        },
        "id": "rag6MW_JOpB6",
        "outputId": "6a87d288-81d4-49ca-a383-dce3cbd6404f"
      },
      "execution_count": 8,
      "outputs": [
        {
          "output_type": "stream",
          "name": "stdout",
          "text": [
            "<class 'pandas.core.frame.DataFrame'>\n",
            "RangeIndex: 929 entries, 0 to 928\n",
            "Data columns (total 6 columns):\n",
            " #   Column            Non-Null Count  Dtype  \n",
            "---  ------            --------------  -----  \n",
            " 0   Tender_title      929 non-null    object \n",
            " 1   Procuring_entity  929 non-null    object \n",
            " 2   Supplier_name     929 non-null    object \n",
            " 3   Award_date        929 non-null    object \n",
            " 4   Award_amount      517 non-null    object \n",
            " 5   Award_amount_new  929 non-null    float64\n",
            "dtypes: float64(1), object(5)\n",
            "memory usage: 43.7+ KB\n"
          ]
        }
      ]
    },
    {
      "cell_type": "code",
      "source": [
        "df_trans.drop('Award_amount', axis = 'columns', inplace = True)"
      ],
      "metadata": {
        "id": "vi1zd7ouO2dO"
      },
      "execution_count": 10,
      "outputs": []
    },
    {
      "cell_type": "code",
      "source": [
        "df_trans['Award_date'] = pd.to_datetime(df_trans['Award_date']).dt.date"
      ],
      "metadata": {
        "id": "b3_E894iS6M-"
      },
      "execution_count": 11,
      "outputs": []
    },
    {
      "cell_type": "code",
      "source": [
        "df_trans['Year'] = pd.to_datetime(df_trans['Award_date']).dt.year"
      ],
      "metadata": {
        "id": "Iroqtxi7e-F0"
      },
      "execution_count": 12,
      "outputs": []
    },
    {
      "cell_type": "code",
      "source": [
        "df_trans['Month'] = pd.to_datetime(df_trans['Award_date']).dt.month"
      ],
      "metadata": {
        "id": "cdYn9HB_Th9M"
      },
      "execution_count": 13,
      "outputs": []
    },
    {
      "cell_type": "code",
      "source": [
        "df_trans['Weekday'] = pd.to_datetime(df_trans['Award_date']).dt.weekday"
      ],
      "metadata": {
        "id": "LSuNPHVKc3l8"
      },
      "execution_count": 14,
      "outputs": []
    },
    {
      "cell_type": "code",
      "source": [
        "#Converting the numeric variables in release_day to string\n",
        "mapper = {0:'Monday',1:'Tuesday',2:'Wednesday',3:'Thursday',4:'Friday',5:'Saturday'}\n",
        "df_trans['Weekday'] = df_trans['Weekday'].map(mapper)"
      ],
      "metadata": {
        "id": "cW1g3Y3xdtSA"
      },
      "execution_count": 15,
      "outputs": []
    },
    {
      "cell_type": "code",
      "source": [
        "df_trans['Year'].value_counts()"
      ],
      "metadata": {
        "colab": {
          "base_uri": "https://localhost:8080/"
        },
        "id": "__iGCdJad66R",
        "outputId": "76dda3af-291e-4423-c042-ec2ec4b436fb"
      },
      "execution_count": 16,
      "outputs": [
        {
          "output_type": "execute_result",
          "data": {
            "text/plain": [
              "2022    862\n",
              "2021     62\n",
              "2020      5\n",
              "Name: Year, dtype: int64"
            ]
          },
          "metadata": {},
          "execution_count": 16
        }
      ]
    },
    {
      "cell_type": "code",
      "source": [
        "df_trans['Year'].value_counts().plot(kind='bar')\n",
        "plt.show()"
      ],
      "metadata": {
        "colab": {
          "base_uri": "https://localhost:8080/",
          "height": 281
        },
        "id": "nxxujDP5fhoO",
        "outputId": "7046dafc-2192-488e-ac02-e82130f0bfd7"
      },
      "execution_count": 17,
      "outputs": [
        {
          "output_type": "display_data",
          "data": {
            "text/plain": [
              "<Figure size 432x288 with 1 Axes>"
            ],
            "image/png": "[encoded data removed]"
          },
          "metadata": {
            "needs_background": "light"
          }
        }
      ]
    },
    {
      "cell_type": "code",
      "source": [
        "df_current = df_trans[df_trans['Year'] == 2022]\n"
      ],
      "metadata": {
        "id": "jUCLh3tIkCqT"
      },
      "execution_count": 18,
      "outputs": []
    },
    {
      "cell_type": "code",
      "source": [
        "# to export the data and download it\n",
        "from google.colab import files\n",
        "df_current.to_csv('Final_ghana_after_EDA.csv', encoding = 'utf-8-sig') \n",
        "files.download('Final_ghana_after_EDA.csv')"
      ],
      "metadata": {
        "colab": {
          "base_uri": "https://localhost:8080/",
          "height": 17
        },
        "id": "fKel6BetW5_W",
        "outputId": "9a5907d5-f022-42cb-de58-6989d1adbea6"
      },
      "execution_count": 19,
      "outputs": [
        {
          "output_type": "display_data",
          "data": {
            "text/plain": [
              "<IPython.core.display.Javascript object>"
            ],
            "application/javascript": [
              "\n",
              "    async function download(id, filename, size) {\n",
              "      if (!google.colab.kernel.accessAllowed) {\n",
              "        return;\n",
              "      }\n",
              "      const div = document.createElement('div');\n",
              "      const label = document.createElement('label');\n",
              "      label.textContent = `Downloading \"${filename}\": `;\n",
              "      div.appendChild(label);\n",
              "      const progress = document.createElement('progress');\n",
              "      progress.max = size;\n",
              "      div.appendChild(progress);\n",
              "      document.body.appendChild(div);\n",
              "\n",
              "      const buffers = [];\n",
              "      let downloaded = 0;\n",
              "\n",
              "      const channel = await google.colab.kernel.comms.open(id);\n",
              "      // Send a message to notify the kernel that we're ready.\n",
              "      channel.send({})\n",
              "\n",
              "      for await (const message of channel.messages) {\n",
              "        // Send a message to notify the kernel that we're ready.\n",
              "        channel.send({})\n",
              "        if (message.buffers) {\n",
              "          for (const buffer of message.buffers) {\n",
              "            buffers.push(buffer);\n",
              "            downloaded += buffer.byteLength;\n",
              "            progress.value = downloaded;\n",
              "          }\n",
              "        }\n",
              "      }\n",
              "      const blob = new Blob(buffers, {type: 'application/binary'});\n",
              "      const a = document.createElement('a');\n",
              "      a.href = window.URL.createObjectURL(blob);\n",
              "      a.download = filename;\n",
              "      div.appendChild(a);\n",
              "      a.click();\n",
              "      div.remove();\n",
              "    }\n",
              "  "
            ]
          },
          "metadata": {}
        },
        {
          "output_type": "display_data",
          "data": {
            "text/plain": [
              "<IPython.core.display.Javascript object>"
            ],
            "application/javascript": [
              "download(\"download_84353d19-2275-48e7-b48f-1509156061f7\", \"final_ghana.csv\", 103597)"
            ]
          },
          "metadata": {}
        }
      ]
    },
    {
      "cell_type": "code",
      "source": [
        "df_current.head(10)"
      ],
      "metadata": {
        "colab": {
          "base_uri": "https://localhost:8080/",
          "height": 581
        },
        "id": "qguc4rZ3D65a",
        "outputId": "4e670915-6b4d-47b2-9238-2d275a6da09a"
      },
      "execution_count": 43,
      "outputs": [
        {
          "output_type": "execute_result",
          "data": {
            "text/plain": [
              "                Tender_title           Procuring_entity  \\\n",
              "0          Disposable Gloves  BEKWAI MUNICIPAL HOSPITAL   \n",
              "1          Disposable Gloves  BEKWAI MUNICIPAL HOSPITAL   \n",
              "2          Disposable Gloves  BEKWAI MUNICIPAL HOSPITAL   \n",
              "3          Disposable Gloves  BEKWAI MUNICIPAL HOSPITAL   \n",
              "4  Miscellaneous Consumables  BEKWAI MUNICIPAL HOSPITAL   \n",
              "5  Miscellaneous Consumables  BEKWAI MUNICIPAL HOSPITAL   \n",
              "6  Miscellaneous Consumables  BEKWAI MUNICIPAL HOSPITAL   \n",
              "7  Miscellaneous Consumables  BEKWAI MUNICIPAL HOSPITAL   \n",
              "8  Miscellaneous Consumables  BEKWAI MUNICIPAL HOSPITAL   \n",
              "9  Miscellaneous Consumables  BEKWAI MUNICIPAL HOSPITAL   \n",
              "\n",
              "                      Supplier_name  Award_date  Award_amount_new  Year  \\\n",
              "0  PEREGRINE FALCON COMPANY LIMITED  2022-12-14              0.60  2022   \n",
              "1  PEREGRINE FALCON COMPANY LIMITED  2022-12-14              4.00  2022   \n",
              "2  PEREGRINE FALCON COMPANY LIMITED  2022-12-14              5.00  2022   \n",
              "3  PEREGRINE FALCON COMPANY LIMITED  2022-12-14              4.00  2022   \n",
              "4        A. BOAKYE KENDY ENTERPRISE  2022-12-14              7.18  2022   \n",
              "5        A. BOAKYE KENDY ENTERPRISE  2022-12-14             26.00  2022   \n",
              "6        A. BOAKYE KENDY ENTERPRISE  2022-12-14             37.44  2022   \n",
              "7        A. BOAKYE KENDY ENTERPRISE  2022-12-14             93.60  2022   \n",
              "8        A. BOAKYE KENDY ENTERPRISE  2022-12-14             18.72  2022   \n",
              "9        A. BOAKYE KENDY ENTERPRISE  2022-12-14           1778.40  2022   \n",
              "\n",
              "      Month    Weekday  \n",
              "0  December  Wednesday  \n",
              "1  December  Wednesday  \n",
              "2  December  Wednesday  \n",
              "3  December  Wednesday  \n",
              "4  December  Wednesday  \n",
              "5  December  Wednesday  \n",
              "6  December  Wednesday  \n",
              "7  December  Wednesday  \n",
              "8  December  Wednesday  \n",
              "9  December  Wednesday  "
            ],
            "text/html": [
              "\n",
              "  <div id=\"df-c9a4ca7d-f6a9-4f5c-813a-8e05881ac726\">\n",
              "    <div class=\"colab-df-container\">\n",
              "      <div>\n",
              "<style scoped>\n",
              "    .dataframe tbody tr th:only-of-type {\n",
              "        vertical-align: middle;\n",
              "    }\n",
              "\n",
              "    .dataframe tbody tr th {\n",
              "        vertical-align: top;\n",
              "    }\n",
              "\n",
              "    .dataframe thead th {\n",
              "        text-align: right;\n",
              "    }\n",
              "</style>\n",
              "<table border=\"1\" class=\"dataframe\">\n",
              "  <thead>\n",
              "    <tr style=\"text-align: right;\">\n",
              "      <th></th>\n",
              "      <th>Tender_title</th>\n",
              "      <th>Procuring_entity</th>\n",
              "      <th>Supplier_name</th>\n",
              "      <th>Award_date</th>\n",
              "      <th>Award_amount_new</th>\n",
              "      <th>Year</th>\n",
              "      <th>Month</th>\n",
              "      <th>Weekday</th>\n",
              "    </tr>\n",
              "  </thead>\n",
              "  <tbody>\n",
              "    <tr>\n",
              "      <th>0</th>\n",
              "      <td>Disposable Gloves</td>\n",
              "      <td>BEKWAI MUNICIPAL HOSPITAL</td>\n",
              "      <td>PEREGRINE FALCON COMPANY LIMITED</td>\n",
              "      <td>2022-12-14</td>\n",
              "      <td>0.60</td>\n",
              "      <td>2022</td>\n",
              "      <td>December</td>\n",
              "      <td>Wednesday</td>\n",
              "    </tr>\n",
              "    <tr>\n",
              "      <th>1</th>\n",
              "      <td>Disposable Gloves</td>\n",
              "      <td>BEKWAI MUNICIPAL HOSPITAL</td>\n",
              "      <td>PEREGRINE FALCON COMPANY LIMITED</td>\n",
              "      <td>2022-12-14</td>\n",
              "      <td>4.00</td>\n",
              "      <td>2022</td>\n",
              "      <td>December</td>\n",
              "      <td>Wednesday</td>\n",
              "    </tr>\n",
              "    <tr>\n",
              "      <th>2</th>\n",
              "      <td>Disposable Gloves</td>\n",
              "      <td>BEKWAI MUNICIPAL HOSPITAL</td>\n",
              "      <td>PEREGRINE FALCON COMPANY LIMITED</td>\n",
              "      <td>2022-12-14</td>\n",
              "      <td>5.00</td>\n",
              "      <td>2022</td>\n",
              "      <td>December</td>\n",
              "      <td>Wednesday</td>\n",
              "    </tr>\n",
              "    <tr>\n",
              "      <th>3</th>\n",
              "      <td>Disposable Gloves</td>\n",
              "      <td>BEKWAI MUNICIPAL HOSPITAL</td>\n",
              "      <td>PEREGRINE FALCON COMPANY LIMITED</td>\n",
              "      <td>2022-12-14</td>\n",
              "      <td>4.00</td>\n",
              "      <td>2022</td>\n",
              "      <td>December</td>\n",
              "      <td>Wednesday</td>\n",
              "    </tr>\n",
              "    <tr>\n",
              "      <th>4</th>\n",
              "      <td>Miscellaneous Consumables</td>\n",
              "      <td>BEKWAI MUNICIPAL HOSPITAL</td>\n",
              "      <td>A. BOAKYE KENDY ENTERPRISE</td>\n",
              "      <td>2022-12-14</td>\n",
              "      <td>7.18</td>\n",
              "      <td>2022</td>\n",
              "      <td>December</td>\n",
              "      <td>Wednesday</td>\n",
              "    </tr>\n",
              "    <tr>\n",
              "      <th>5</th>\n",
              "      <td>Miscellaneous Consumables</td>\n",
              "      <td>BEKWAI MUNICIPAL HOSPITAL</td>\n",
              "      <td>A. BOAKYE KENDY ENTERPRISE</td>\n",
              "      <td>2022-12-14</td>\n",
              "      <td>26.00</td>\n",
              "      <td>2022</td>\n",
              "      <td>December</td>\n",
              "      <td>Wednesday</td>\n",
              "    </tr>\n",
              "    <tr>\n",
              "      <th>6</th>\n",
              "      <td>Miscellaneous Consumables</td>\n",
              "      <td>BEKWAI MUNICIPAL HOSPITAL</td>\n",
              "      <td>A. BOAKYE KENDY ENTERPRISE</td>\n",
              "      <td>2022-12-14</td>\n",
              "      <td>37.44</td>\n",
              "      <td>2022</td>\n",
              "      <td>December</td>\n",
              "      <td>Wednesday</td>\n",
              "    </tr>\n",
              "    <tr>\n",
              "      <th>7</th>\n",
              "      <td>Miscellaneous Consumables</td>\n",
              "      <td>BEKWAI MUNICIPAL HOSPITAL</td>\n",
              "      <td>A. BOAKYE KENDY ENTERPRISE</td>\n",
              "      <td>2022-12-14</td>\n",
              "      <td>93.60</td>\n",
              "      <td>2022</td>\n",
              "      <td>December</td>\n",
              "      <td>Wednesday</td>\n",
              "    </tr>\n",
              "    <tr>\n",
              "      <th>8</th>\n",
              "      <td>Miscellaneous Consumables</td>\n",
              "      <td>BEKWAI MUNICIPAL HOSPITAL</td>\n",
              "      <td>A. BOAKYE KENDY ENTERPRISE</td>\n",
              "      <td>2022-12-14</td>\n",
              "      <td>18.72</td>\n",
              "      <td>2022</td>\n",
              "      <td>December</td>\n",
              "      <td>Wednesday</td>\n",
              "    </tr>\n",
              "    <tr>\n",
              "      <th>9</th>\n",
              "      <td>Miscellaneous Consumables</td>\n",
              "      <td>BEKWAI MUNICIPAL HOSPITAL</td>\n",
              "      <td>A. BOAKYE KENDY ENTERPRISE</td>\n",
              "      <td>2022-12-14</td>\n",
              "      <td>1778.40</td>\n",
              "      <td>2022</td>\n",
              "      <td>December</td>\n",
              "      <td>Wednesday</td>\n",
              "    </tr>\n",
              "  </tbody>\n",
              "</table>\n",
              "</div>\n",
              "      <button class=\"colab-df-convert\" onclick=\"convertToInteractive('df-c9a4ca7d-f6a9-4f5c-813a-8e05881ac726')\"\n",
              "              title=\"Convert this dataframe to an interactive table.\"\n",
              "              style=\"display:none;\">\n",
              "        \n",
              "  <svg xmlns=\"http://www.w3.org/2000/svg\" height=\"24px\"viewBox=\"0 0 24 24\"\n",
              "       width=\"24px\">\n",
              "    <path d=\"M0 0h24v24H0V0z\" fill=\"none\"/>\n",
              "    <path d=\"M18.56 5.44l.94 2.06.94-2.06 2.06-.94-2.06-.94-.94-2.06-.94 2.06-2.06.94zm-11 1L8.5 8.5l.94-2.06 2.06-.94-2.06-.94L8.5 2.5l-.94 2.06-2.06.94zm10 10l.94 2.06.94-2.06 2.06-.94-2.06-.94-.94-2.06-.94 2.06-2.06.94z\"/><path d=\"M17.41 7.96l-1.37-1.37c-.4-.4-.92-.59-1.43-.59-.52 0-1.04.2-1.43.59L10.3 9.45l-7.72 7.72c-.78.78-.78 2.05 0 2.83L4 21.41c.39.39.9.59 1.41.59.51 0 1.02-.2 1.41-.59l7.78-7.78 2.81-2.81c.8-.78.8-2.07 0-2.86zM5.41 20L4 18.59l7.72-7.72 1.47 1.35L5.41 20z\"/>\n",
              "  </svg>\n",
              "      </button>\n",
              "      \n",
              "  <style>\n",
              "    .colab-df-container {\n",
              "      display:flex;\n",
              "      flex-wrap:wrap;\n",
              "      gap: 12px;\n",
              "    }\n",
              "\n",
              "    .colab-df-convert {\n",
              "      background-color: #E8F0FE;\n",
              "      border: none;\n",
              "      border-radius: 50%;\n",
              "      cursor: pointer;\n",
              "      display: none;\n",
              "      fill: #1967D2;\n",
              "      height: 32px;\n",
              "      padding: 0 0 0 0;\n",
              "      width: 32px;\n",
              "    }\n",
              "\n",
              "    .colab-df-convert:hover {\n",
              "      background-color: #E2EBFA;\n",
              "      box-shadow: 0px 1px 2px rgba(60, 64, 67, 0.3), 0px 1px 3px 1px rgba(60, 64, 67, 0.15);\n",
              "      fill: #174EA6;\n",
              "    }\n",
              "\n",
              "    [theme=dark] .colab-df-convert {\n",
              "      background-color: #3B4455;\n",
              "      fill: #D2E3FC;\n",
              "    }\n",
              "\n",
              "    [theme=dark] .colab-df-convert:hover {\n",
              "      background-color: #434B5C;\n",
              "      box-shadow: 0px 1px 3px 1px rgba(0, 0, 0, 0.15);\n",
              "      filter: drop-shadow(0px 1px 2px rgba(0, 0, 0, 0.3));\n",
              "      fill: #FFFFFF;\n",
              "    }\n",
              "  </style>\n",
              "\n",
              "      <script>\n",
              "        const buttonEl =\n",
              "          document.querySelector('#df-c9a4ca7d-f6a9-4f5c-813a-8e05881ac726 button.colab-df-convert');\n",
              "        buttonEl.style.display =\n",
              "          google.colab.kernel.accessAllowed ? 'block' : 'none';\n",
              "\n",
              "        async function convertToInteractive(key) {\n",
              "          const element = document.querySelector('#df-c9a4ca7d-f6a9-4f5c-813a-8e05881ac726');\n",
              "          const dataTable =\n",
              "            await google.colab.kernel.invokeFunction('convertToInteractive',\n",
              "                                                     [key], {});\n",
              "          if (!dataTable) return;\n",
              "\n",
              "          const docLinkHtml = 'Like what you see? Visit the ' +\n",
              "            '<a target=\"_blank\" href=https://colab.research.google.com/notebooks/data_table.ipynb>data table notebook</a>'\n",
              "            + ' to learn more about interactive tables.';\n",
              "          element.innerHTML = '';\n",
              "          dataTable['output_type'] = 'display_data';\n",
              "          await google.colab.output.renderOutput(dataTable, element);\n",
              "          const docLink = document.createElement('div');\n",
              "          docLink.innerHTML = docLinkHtml;\n",
              "          element.appendChild(docLink);\n",
              "        }\n",
              "      </script>\n",
              "    </div>\n",
              "  </div>\n",
              "  "
            ]
          },
          "metadata": {},
          "execution_count": 43
        }
      ]
    },
    {
      "cell_type": "code",
      "source": [
        "df_current.tail(10)"
      ],
      "metadata": {
        "colab": {
          "base_uri": "https://localhost:8080/",
          "height": 668
        },
        "id": "lJosE2zUesDn",
        "outputId": "52e006cd-956d-4f97-a0e8-e965144be35e"
      },
      "execution_count": 21,
      "outputs": [
        {
          "output_type": "execute_result",
          "data": {
            "text/plain": [
              "                                  Tender_title  \\\n",
              "852                        End of Year Package   \n",
              "858                     Computer and Equipment   \n",
              "859                     Computer and Equipment   \n",
              "860                     Computer and Equipment   \n",
              "861                     Computer and Equipment   \n",
              "862   COMPUTERS AND ACCESSORIES AND FURNITURES   \n",
              "868                     Computer and Equipment   \n",
              "872  RENOVATION OF 10 YOUTH ENGAGEMENT CENTRES   \n",
              "877                    Procurement of Vehicles   \n",
              "878                    Procurement of Vehicles   \n",
              "\n",
              "                                      Procuring_entity  \\\n",
              "852    NURSING AND MIDWIFERY TRAINING COLLEGE KORLE BU   \n",
              "858                          GHANA SHIPPERS' AUTHORITY   \n",
              "859                          GHANA SHIPPERS' AUTHORITY   \n",
              "860                          GHANA SHIPPERS' AUTHORITY   \n",
              "861                          GHANA SHIPPERS' AUTHORITY   \n",
              "862     NURSING AND MIDWIFERY TRAINING COLLEGE- TARKWA   \n",
              "868                          GHANA SHIPPERS' AUTHORITY   \n",
              "872                            Ghana Library Authority   \n",
              "877  Office of the Head of the Local Government Ser...   \n",
              "878  Office of the Head of the Local Government Ser...   \n",
              "\n",
              "                                    Supplier_name  Award_date  \\\n",
              "852                               BUUBOLA SYSTEMS  2022-01-10   \n",
              "858                     ZOOM-ZOOM COMPANY LIMITED  2022-05-25   \n",
              "859                     ZOOM-ZOOM COMPANY LIMITED  2022-05-25   \n",
              "860                     ZOOM-ZOOM COMPANY LIMITED  2022-05-25   \n",
              "861                              RHAPSODY LIMITED  2022-05-25   \n",
              "862                       DE-MAK SUPPLIES LIMITED  2022-01-06   \n",
              "868          PROCESS AND PLANT AUTOMATION LIMITED  2022-05-25   \n",
              "872                  AYIMINA CONSTRUCTION LIMITED  2022-03-14   \n",
              "877  KLATAA ENGINEERING SOLUTIONS COMPANY LIMITED  2022-07-04   \n",
              "878  KLATAA ENGINEERING SOLUTIONS COMPANY LIMITED  2022-07-04   \n",
              "\n",
              "     Award_amount_new  Year  Month    Weekday  \n",
              "852             852.0  2022      1     Monday  \n",
              "858             858.0  2022      5  Wednesday  \n",
              "859             859.0  2022      5  Wednesday  \n",
              "860             860.0  2022      5  Wednesday  \n",
              "861             861.0  2022      5  Wednesday  \n",
              "862             862.0  2022      1   Thursday  \n",
              "868             868.0  2022      5  Wednesday  \n",
              "872             872.0  2022      3     Monday  \n",
              "877             877.0  2022      7     Monday  \n",
              "878             878.0  2022      7     Monday  "
            ],
            "text/html": [
              "\n",
              "  <div id=\"df-5209e04a-86d9-433d-9d9f-7c3ab4578e94\">\n",
              "    <div class=\"colab-df-container\">\n",
              "      <div>\n",
              "<style scoped>\n",
              "    .dataframe tbody tr th:only-of-type {\n",
              "        vertical-align: middle;\n",
              "    }\n",
              "\n",
              "    .dataframe tbody tr th {\n",
              "        vertical-align: top;\n",
              "    }\n",
              "\n",
              "    .dataframe thead th {\n",
              "        text-align: right;\n",
              "    }\n",
              "</style>\n",
              "<table border=\"1\" class=\"dataframe\">\n",
              "  <thead>\n",
              "    <tr style=\"text-align: right;\">\n",
              "      <th></th>\n",
              "      <th>Tender_title</th>\n",
              "      <th>Procuring_entity</th>\n",
              "      <th>Supplier_name</th>\n",
              "      <th>Award_date</th>\n",
              "      <th>Award_amount_new</th>\n",
              "      <th>Year</th>\n",
              "      <th>Month</th>\n",
              "      <th>Weekday</th>\n",
              "    </tr>\n",
              "  </thead>\n",
              "  <tbody>\n",
              "    <tr>\n",
              "      <th>852</th>\n",
              "      <td>End of Year Package</td>\n",
              "      <td>NURSING AND MIDWIFERY TRAINING COLLEGE KORLE BU</td>\n",
              "      <td>BUUBOLA SYSTEMS</td>\n",
              "      <td>2022-01-10</td>\n",
              "      <td>852.0</td>\n",
              "      <td>2022</td>\n",
              "      <td>1</td>\n",
              "      <td>Monday</td>\n",
              "    </tr>\n",
              "    <tr>\n",
              "      <th>858</th>\n",
              "      <td>Computer and Equipment</td>\n",
              "      <td>GHANA SHIPPERS' AUTHORITY</td>\n",
              "      <td>ZOOM-ZOOM COMPANY LIMITED</td>\n",
              "      <td>2022-05-25</td>\n",
              "      <td>858.0</td>\n",
              "      <td>2022</td>\n",
              "      <td>5</td>\n",
              "      <td>Wednesday</td>\n",
              "    </tr>\n",
              "    <tr>\n",
              "      <th>859</th>\n",
              "      <td>Computer and Equipment</td>\n",
              "      <td>GHANA SHIPPERS' AUTHORITY</td>\n",
              "      <td>ZOOM-ZOOM COMPANY LIMITED</td>\n",
              "      <td>2022-05-25</td>\n",
              "      <td>859.0</td>\n",
              "      <td>2022</td>\n",
              "      <td>5</td>\n",
              "      <td>Wednesday</td>\n",
              "    </tr>\n",
              "    <tr>\n",
              "      <th>860</th>\n",
              "      <td>Computer and Equipment</td>\n",
              "      <td>GHANA SHIPPERS' AUTHORITY</td>\n",
              "      <td>ZOOM-ZOOM COMPANY LIMITED</td>\n",
              "      <td>2022-05-25</td>\n",
              "      <td>860.0</td>\n",
              "      <td>2022</td>\n",
              "      <td>5</td>\n",
              "      <td>Wednesday</td>\n",
              "    </tr>\n",
              "    <tr>\n",
              "      <th>861</th>\n",
              "      <td>Computer and Equipment</td>\n",
              "      <td>GHANA SHIPPERS' AUTHORITY</td>\n",
              "      <td>RHAPSODY LIMITED</td>\n",
              "      <td>2022-05-25</td>\n",
              "      <td>861.0</td>\n",
              "      <td>2022</td>\n",
              "      <td>5</td>\n",
              "      <td>Wednesday</td>\n",
              "    </tr>\n",
              "    <tr>\n",
              "      <th>862</th>\n",
              "      <td>COMPUTERS AND ACCESSORIES AND FURNITURES</td>\n",
              "      <td>NURSING AND MIDWIFERY TRAINING COLLEGE- TARKWA</td>\n",
              "      <td>DE-MAK SUPPLIES LIMITED</td>\n",
              "      <td>2022-01-06</td>\n",
              "      <td>862.0</td>\n",
              "      <td>2022</td>\n",
              "      <td>1</td>\n",
              "      <td>Thursday</td>\n",
              "    </tr>\n",
              "    <tr>\n",
              "      <th>868</th>\n",
              "      <td>Computer and Equipment</td>\n",
              "      <td>GHANA SHIPPERS' AUTHORITY</td>\n",
              "      <td>PROCESS AND PLANT AUTOMATION LIMITED</td>\n",
              "      <td>2022-05-25</td>\n",
              "      <td>868.0</td>\n",
              "      <td>2022</td>\n",
              "      <td>5</td>\n",
              "      <td>Wednesday</td>\n",
              "    </tr>\n",
              "    <tr>\n",
              "      <th>872</th>\n",
              "      <td>RENOVATION OF 10 YOUTH ENGAGEMENT CENTRES</td>\n",
              "      <td>Ghana Library Authority</td>\n",
              "      <td>AYIMINA CONSTRUCTION LIMITED</td>\n",
              "      <td>2022-03-14</td>\n",
              "      <td>872.0</td>\n",
              "      <td>2022</td>\n",
              "      <td>3</td>\n",
              "      <td>Monday</td>\n",
              "    </tr>\n",
              "    <tr>\n",
              "      <th>877</th>\n",
              "      <td>Procurement of Vehicles</td>\n",
              "      <td>Office of the Head of the Local Government Ser...</td>\n",
              "      <td>KLATAA ENGINEERING SOLUTIONS COMPANY LIMITED</td>\n",
              "      <td>2022-07-04</td>\n",
              "      <td>877.0</td>\n",
              "      <td>2022</td>\n",
              "      <td>7</td>\n",
              "      <td>Monday</td>\n",
              "    </tr>\n",
              "    <tr>\n",
              "      <th>878</th>\n",
              "      <td>Procurement of Vehicles</td>\n",
              "      <td>Office of the Head of the Local Government Ser...</td>\n",
              "      <td>KLATAA ENGINEERING SOLUTIONS COMPANY LIMITED</td>\n",
              "      <td>2022-07-04</td>\n",
              "      <td>878.0</td>\n",
              "      <td>2022</td>\n",
              "      <td>7</td>\n",
              "      <td>Monday</td>\n",
              "    </tr>\n",
              "  </tbody>\n",
              "</table>\n",
              "</div>\n",
              "      <button class=\"colab-df-convert\" onclick=\"convertToInteractive('df-5209e04a-86d9-433d-9d9f-7c3ab4578e94')\"\n",
              "              title=\"Convert this dataframe to an interactive table.\"\n",
              "              style=\"display:none;\">\n",
              "        \n",
              "  <svg xmlns=\"http://www.w3.org/2000/svg\" height=\"24px\"viewBox=\"0 0 24 24\"\n",
              "       width=\"24px\">\n",
              "    <path d=\"M0 0h24v24H0V0z\" fill=\"none\"/>\n",
              "    <path d=\"M18.56 5.44l.94 2.06.94-2.06 2.06-.94-2.06-.94-.94-2.06-.94 2.06-2.06.94zm-11 1L8.5 8.5l.94-2.06 2.06-.94-2.06-.94L8.5 2.5l-.94 2.06-2.06.94zm10 10l.94 2.06.94-2.06 2.06-.94-2.06-.94-.94-2.06-.94 2.06-2.06.94z\"/><path d=\"M17.41 7.96l-1.37-1.37c-.4-.4-.92-.59-1.43-.59-.52 0-1.04.2-1.43.59L10.3 9.45l-7.72 7.72c-.78.78-.78 2.05 0 2.83L4 21.41c.39.39.9.59 1.41.59.51 0 1.02-.2 1.41-.59l7.78-7.78 2.81-2.81c.8-.78.8-2.07 0-2.86zM5.41 20L4 18.59l7.72-7.72 1.47 1.35L5.41 20z\"/>\n",
              "  </svg>\n",
              "      </button>\n",
              "      \n",
              "  <style>\n",
              "    .colab-df-container {\n",
              "      display:flex;\n",
              "      flex-wrap:wrap;\n",
              "      gap: 12px;\n",
              "    }\n",
              "\n",
              "    .colab-df-convert {\n",
              "      background-color: #E8F0FE;\n",
              "      border: none;\n",
              "      border-radius: 50%;\n",
              "      cursor: pointer;\n",
              "      display: none;\n",
              "      fill: #1967D2;\n",
              "      height: 32px;\n",
              "      padding: 0 0 0 0;\n",
              "      width: 32px;\n",
              "    }\n",
              "\n",
              "    .colab-df-convert:hover {\n",
              "      background-color: #E2EBFA;\n",
              "      box-shadow: 0px 1px 2px rgba(60, 64, 67, 0.3), 0px 1px 3px 1px rgba(60, 64, 67, 0.15);\n",
              "      fill: #174EA6;\n",
              "    }\n",
              "\n",
              "    [theme=dark] .colab-df-convert {\n",
              "      background-color: #3B4455;\n",
              "      fill: #D2E3FC;\n",
              "    }\n",
              "\n",
              "    [theme=dark] .colab-df-convert:hover {\n",
              "      background-color: #434B5C;\n",
              "      box-shadow: 0px 1px 3px 1px rgba(0, 0, 0, 0.15);\n",
              "      filter: drop-shadow(0px 1px 2px rgba(0, 0, 0, 0.3));\n",
              "      fill: #FFFFFF;\n",
              "    }\n",
              "  </style>\n",
              "\n",
              "      <script>\n",
              "        const buttonEl =\n",
              "          document.querySelector('#df-5209e04a-86d9-433d-9d9f-7c3ab4578e94 button.colab-df-convert');\n",
              "        buttonEl.style.display =\n",
              "          google.colab.kernel.accessAllowed ? 'block' : 'none';\n",
              "\n",
              "        async function convertToInteractive(key) {\n",
              "          const element = document.querySelector('#df-5209e04a-86d9-433d-9d9f-7c3ab4578e94');\n",
              "          const dataTable =\n",
              "            await google.colab.kernel.invokeFunction('convertToInteractive',\n",
              "                                                     [key], {});\n",
              "          if (!dataTable) return;\n",
              "\n",
              "          const docLinkHtml = 'Like what you see? Visit the ' +\n",
              "            '<a target=\"_blank\" href=https://colab.research.google.com/notebooks/data_table.ipynb>data table notebook</a>'\n",
              "            + ' to learn more about interactive tables.';\n",
              "          element.innerHTML = '';\n",
              "          dataTable['output_type'] = 'display_data';\n",
              "          await google.colab.output.renderOutput(dataTable, element);\n",
              "          const docLink = document.createElement('div');\n",
              "          docLink.innerHTML = docLinkHtml;\n",
              "          element.appendChild(docLink);\n",
              "        }\n",
              "      </script>\n",
              "    </div>\n",
              "  </div>\n",
              "  "
            ]
          },
          "metadata": {},
          "execution_count": 21
        }
      ]
    },
    {
      "cell_type": "code",
      "source": [
        "df_current[\"Tender_title\"].nunique()"
      ],
      "metadata": {
        "colab": {
          "base_uri": "https://localhost:8080/"
        },
        "id": "TfA9j7EhPNUg",
        "outputId": "5deb892d-3d77-4fce-c75c-3fc92f4e2821"
      },
      "execution_count": 22,
      "outputs": [
        {
          "output_type": "execute_result",
          "data": {
            "text/plain": [
              "196"
            ]
          },
          "metadata": {},
          "execution_count": 22
        }
      ]
    },
    {
      "cell_type": "code",
      "source": [
        "out1 = df_current[\"Tender_title\"].value_counts()\n",
        "out1[0:5].plot(kind='barh', title='Top 5 Tender title')\n",
        "plt.show()"
      ],
      "metadata": {
        "colab": {
          "base_uri": "https://localhost:8080/",
          "height": 281
        },
        "id": "egXY7RvvQYql",
        "outputId": "4bf4514a-e97d-4c4d-82c6-a01a8fffbc83"
      },
      "execution_count": 33,
      "outputs": [
        {
          "output_type": "display_data",
          "data": {
            "text/plain": [
              "<Figure size 432x288 with 1 Axes>"
            ],
            "image/png": "[encoded data removed]"
          },
          "metadata": {
            "needs_background": "light"
          }
        }
      ]
    },
    {
      "cell_type": "code",
      "source": [
        "df_current[\"Tender_title\"].value_counts(normalize=True)*100"
      ],
      "metadata": {
        "colab": {
          "base_uri": "https://localhost:8080/"
        },
        "id": "1jj47CVxjD5I",
        "outputId": "040e35d4-9e3b-477f-91e8-ddedde508e57"
      },
      "execution_count": 42,
      "outputs": [
        {
          "output_type": "execute_result",
          "data": {
            "text/plain": [
              "Essential Medicines                                                     16.821346\n",
              "Non-Medicine Consumables                                                 6.380510\n",
              "Dental Materials                                                         3.248260\n",
              "Miscellaneous Consumables                                                1.624130\n",
              "Procurement Of Essential Medicine (Injectables)                          1.624130\n",
              "                                                                          ...    \n",
              "X-ray chemicals and consumables - Asamankese                             0.116009\n",
              "Name Tags and Branded Lanyards for Conference                            0.116009\n",
              "Branded Notepads and Pens for Conference                                 0.116009\n",
              "PROCUREMENT FOR THE SUPPLY AND INSTALLATION OF 8NO. AIR CONDITIONERS     0.116009\n",
              "Printing of Induction Brochures                                          0.116009\n",
              "Name: Tender_title, Length: 196, dtype: float64"
            ]
          },
          "metadata": {},
          "execution_count": 42
        }
      ]
    },
    {
      "cell_type": "code",
      "source": [
        "out2 = df_current[\"Procuring_entity\"].value_counts()\n",
        "out2[0:5].plot(kind='barh', title='Top 5 Procuring entity')\n",
        "plt.show()"
      ],
      "metadata": {
        "colab": {
          "base_uri": "https://localhost:8080/",
          "height": 281
        },
        "id": "_XWyORjgPNQ4",
        "outputId": "76a2e4e4-435c-4068-fd68-780659289943"
      },
      "execution_count": 34,
      "outputs": [
        {
          "output_type": "display_data",
          "data": {
            "text/plain": [
              "<Figure size 432x288 with 1 Axes>"
            ],
            "image/png": "[encoded data removed]"
          },
          "metadata": {
            "needs_background": "light"
          }
        }
      ]
    },
    {
      "cell_type": "code",
      "source": [
        "out3 = df_current[\"Supplier_name\"].value_counts()\n",
        "out3[0:5].plot(kind='barh', title='Top 5 Supplier name')\n",
        "plt.show()"
      ],
      "metadata": {
        "colab": {
          "base_uri": "https://localhost:8080/",
          "height": 281
        },
        "id": "UnpRZ8vsPNN_",
        "outputId": "9c21bd1e-32ea-4639-c1e5-7067938c547c"
      },
      "execution_count": 35,
      "outputs": [
        {
          "output_type": "display_data",
          "data": {
            "text/plain": [
              "<Figure size 432x288 with 1 Axes>"
            ],
            "image/png": "[encoded data removed]"
          },
          "metadata": {
            "needs_background": "light"
          }
        }
      ]
    },
    {
      "cell_type": "code",
      "source": [
        "#Converting the numeric variables in release_day to string\n",
        "mapper = {1:'January',2:'February',3:'March',4:'April',5:'May',6:'June',7:'July',8:'August',9:'September',10:'October',11:'November',12:'December'}\n",
        "df_current['Month'] = df_current['Month'].map(mapper)"
      ],
      "metadata": {
        "colab": {
          "base_uri": "https://localhost:8080/"
        },
        "id": "1kTSJ3DSX9d0",
        "outputId": "ebc873d1-4033-4001-f9f5-c772cb809c33"
      },
      "execution_count": 36,
      "outputs": [
        {
          "output_type": "stream",
          "name": "stderr",
          "text": [
            "<ipython-input-36-78f7121124af>:3: SettingWithCopyWarning: \n",
            "A value is trying to be set on a copy of a slice from a DataFrame.\n",
            "Try using .loc[row_indexer,col_indexer] = value instead\n",
            "\n",
            "See the caveats in the documentation: https://pandas.pydata.org/pandas-docs/stable/user_guide/indexing.html#returning-a-view-versus-a-copy\n",
            "  df_current['Month'] = df_current['Month'].map(mapper)\n"
          ]
        }
      ]
    },
    {
      "cell_type": "code",
      "source": [
        "out4 = df_current[\"Month\"].value_counts()\n",
        "out4.plot(kind='bar', title='Tender Distribution per month')\n",
        "plt.show()"
      ],
      "metadata": {
        "colab": {
          "base_uri": "https://localhost:8080/",
          "height": 326
        },
        "id": "dga8rEVgPNJw",
        "outputId": "4615999e-a1b7-49c5-e33d-764e70a7f147"
      },
      "execution_count": 37,
      "outputs": [
        {
          "output_type": "display_data",
          "data": {
            "text/plain": [
              "<Figure size 432x288 with 1 Axes>"
            ],
            "image/png": "[encoded data removed]"
          },
          "metadata": {
            "needs_background": "light"
          }
        }
      ]
    },
    {
      "cell_type": "code",
      "source": [
        "high_amount = df_current[\"Award_amount_new\"].sort_values(ascending = False)\n",
        "high_amount"
      ],
      "metadata": {
        "colab": {
          "base_uri": "https://localhost:8080/"
        },
        "id": "CARadaNJVZJH",
        "outputId": "041e252b-b889-4924-b5e4-5108b689a91d"
      },
      "execution_count": 27,
      "outputs": [
        {
          "output_type": "execute_result",
          "data": {
            "text/plain": [
              "155    540000.00\n",
              "151    496300.00\n",
              "162    400500.00\n",
              "142    377520.00\n",
              "160    178000.00\n",
              "         ...    \n",
              "43          0.13\n",
              "120         0.12\n",
              "50          0.10\n",
              "49          0.08\n",
              "157         0.00\n",
              "Name: Award_amount_new, Length: 862, dtype: float64"
            ]
          },
          "metadata": {},
          "execution_count": 27
        }
      ]
    },
    {
      "cell_type": "code",
      "source": [
        "pd.DataFrame(df_current.loc[df_current['Award_amount_new'] >=178000.00])"
      ],
      "metadata": {
        "colab": {
          "base_uri": "https://localhost:8080/",
          "height": 337
        },
        "id": "xB-FC47lZWsY",
        "outputId": "78814990-3366-41f2-dce1-80bf0cc58a10"
      },
      "execution_count": 28,
      "outputs": [
        {
          "output_type": "execute_result",
          "data": {
            "text/plain": [
              "                                          Tender_title  \\\n",
              "142                             Computer and Equipment   \n",
              "151                          MEDICINES FOR 4TH QUARTER   \n",
              "155  Bituminous Surfacing of 0.8km GCB Bank Road at...   \n",
              "160                       Print Promotional  Materials   \n",
              "162                       Print Promotional  Materials   \n",
              "\n",
              "                               Procuring_entity  \\\n",
              "142                   GHANA SHIPPERS' AUTHORITY   \n",
              "151                   Ejura Government Hospital   \n",
              "155  Kwahu Afram Plains North District Assembly   \n",
              "160                     GHANA TOURISM AUTHORITY   \n",
              "162                     GHANA TOURISM AUTHORITY   \n",
              "\n",
              "                      Supplier_name  Award_date  Award_amount_new  Year  \\\n",
              "142                RHAPSODY LIMITED  2022-11-30          377520.0  2022   \n",
              "151     PANACEA PHARMACEUTICALS LTD  2022-10-21          496300.0  2022   \n",
              "155         E GIANT COMPANY LIMITED  2022-12-13          540000.0  2022   \n",
              "160  SODIUM BRAND SOLUTIONS LIMITED  2022-11-15          178000.0  2022   \n",
              "162  SODIUM BRAND SOLUTIONS LIMITED  2022-11-15          400500.0  2022   \n",
              "\n",
              "     Month    Weekday  \n",
              "142     11  Wednesday  \n",
              "151     10     Friday  \n",
              "155     12    Tuesday  \n",
              "160     11    Tuesday  \n",
              "162     11    Tuesday  "
            ],
            "text/html": [
              "\n",
              "  <div id=\"df-967f5da6-d596-426b-a219-15c84efd37d0\">\n",
              "    <div class=\"colab-df-container\">\n",
              "      <div>\n",
              "<style scoped>\n",
              "    .dataframe tbody tr th:only-of-type {\n",
              "        vertical-align: middle;\n",
              "    }\n",
              "\n",
              "    .dataframe tbody tr th {\n",
              "        vertical-align: top;\n",
              "    }\n",
              "\n",
              "    .dataframe thead th {\n",
              "        text-align: right;\n",
              "    }\n",
              "</style>\n",
              "<table border=\"1\" class=\"dataframe\">\n",
              "  <thead>\n",
              "    <tr style=\"text-align: right;\">\n",
              "      <th></th>\n",
              "      <th>Tender_title</th>\n",
              "      <th>Procuring_entity</th>\n",
              "      <th>Supplier_name</th>\n",
              "      <th>Award_date</th>\n",
              "      <th>Award_amount_new</th>\n",
              "      <th>Year</th>\n",
              "      <th>Month</th>\n",
              "      <th>Weekday</th>\n",
              "    </tr>\n",
              "  </thead>\n",
              "  <tbody>\n",
              "    <tr>\n",
              "      <th>142</th>\n",
              "      <td>Computer and Equipment</td>\n",
              "      <td>GHANA SHIPPERS' AUTHORITY</td>\n",
              "      <td>RHAPSODY LIMITED</td>\n",
              "      <td>2022-11-30</td>\n",
              "      <td>377520.0</td>\n",
              "      <td>2022</td>\n",
              "      <td>11</td>\n",
              "      <td>Wednesday</td>\n",
              "    </tr>\n",
              "    <tr>\n",
              "      <th>151</th>\n",
              "      <td>MEDICINES FOR 4TH QUARTER</td>\n",
              "      <td>Ejura Government Hospital</td>\n",
              "      <td>PANACEA PHARMACEUTICALS LTD</td>\n",
              "      <td>2022-10-21</td>\n",
              "      <td>496300.0</td>\n",
              "      <td>2022</td>\n",
              "      <td>10</td>\n",
              "      <td>Friday</td>\n",
              "    </tr>\n",
              "    <tr>\n",
              "      <th>155</th>\n",
              "      <td>Bituminous Surfacing of 0.8km GCB Bank Road at...</td>\n",
              "      <td>Kwahu Afram Plains North District Assembly</td>\n",
              "      <td>E GIANT COMPANY LIMITED</td>\n",
              "      <td>2022-12-13</td>\n",
              "      <td>540000.0</td>\n",
              "      <td>2022</td>\n",
              "      <td>12</td>\n",
              "      <td>Tuesday</td>\n",
              "    </tr>\n",
              "    <tr>\n",
              "      <th>160</th>\n",
              "      <td>Print Promotional  Materials</td>\n",
              "      <td>GHANA TOURISM AUTHORITY</td>\n",
              "      <td>SODIUM BRAND SOLUTIONS LIMITED</td>\n",
              "      <td>2022-11-15</td>\n",
              "      <td>178000.0</td>\n",
              "      <td>2022</td>\n",
              "      <td>11</td>\n",
              "      <td>Tuesday</td>\n",
              "    </tr>\n",
              "    <tr>\n",
              "      <th>162</th>\n",
              "      <td>Print Promotional  Materials</td>\n",
              "      <td>GHANA TOURISM AUTHORITY</td>\n",
              "      <td>SODIUM BRAND SOLUTIONS LIMITED</td>\n",
              "      <td>2022-11-15</td>\n",
              "      <td>400500.0</td>\n",
              "      <td>2022</td>\n",
              "      <td>11</td>\n",
              "      <td>Tuesday</td>\n",
              "    </tr>\n",
              "  </tbody>\n",
              "</table>\n",
              "</div>\n",
              "      <button class=\"colab-df-convert\" onclick=\"convertToInteractive('df-967f5da6-d596-426b-a219-15c84efd37d0')\"\n",
              "              title=\"Convert this dataframe to an interactive table.\"\n",
              "              style=\"display:none;\">\n",
              "        \n",
              "  <svg xmlns=\"http://www.w3.org/2000/svg\" height=\"24px\"viewBox=\"0 0 24 24\"\n",
              "       width=\"24px\">\n",
              "    <path d=\"M0 0h24v24H0V0z\" fill=\"none\"/>\n",
              "    <path d=\"M18.56 5.44l.94 2.06.94-2.06 2.06-.94-2.06-.94-.94-2.06-.94 2.06-2.06.94zm-11 1L8.5 8.5l.94-2.06 2.06-.94-2.06-.94L8.5 2.5l-.94 2.06-2.06.94zm10 10l.94 2.06.94-2.06 2.06-.94-2.06-.94-.94-2.06-.94 2.06-2.06.94z\"/><path d=\"M17.41 7.96l-1.37-1.37c-.4-.4-.92-.59-1.43-.59-.52 0-1.04.2-1.43.59L10.3 9.45l-7.72 7.72c-.78.78-.78 2.05 0 2.83L4 21.41c.39.39.9.59 1.41.59.51 0 1.02-.2 1.41-.59l7.78-7.78 2.81-2.81c.8-.78.8-2.07 0-2.86zM5.41 20L4 18.59l7.72-7.72 1.47 1.35L5.41 20z\"/>\n",
              "  </svg>\n",
              "      </button>\n",
              "      \n",
              "  <style>\n",
              "    .colab-df-container {\n",
              "      display:flex;\n",
              "      flex-wrap:wrap;\n",
              "      gap: 12px;\n",
              "    }\n",
              "\n",
              "    .colab-df-convert {\n",
              "      background-color: #E8F0FE;\n",
              "      border: none;\n",
              "      border-radius: 50%;\n",
              "      cursor: pointer;\n",
              "      display: none;\n",
              "      fill: #1967D2;\n",
              "      height: 32px;\n",
              "      padding: 0 0 0 0;\n",
              "      width: 32px;\n",
              "    }\n",
              "\n",
              "    .colab-df-convert:hover {\n",
              "      background-color: #E2EBFA;\n",
              "      box-shadow: 0px 1px 2px rgba(60, 64, 67, 0.3), 0px 1px 3px 1px rgba(60, 64, 67, 0.15);\n",
              "      fill: #174EA6;\n",
              "    }\n",
              "\n",
              "    [theme=dark] .colab-df-convert {\n",
              "      background-color: #3B4455;\n",
              "      fill: #D2E3FC;\n",
              "    }\n",
              "\n",
              "    [theme=dark] .colab-df-convert:hover {\n",
              "      background-color: #434B5C;\n",
              "      box-shadow: 0px 1px 3px 1px rgba(0, 0, 0, 0.15);\n",
              "      filter: drop-shadow(0px 1px 2px rgba(0, 0, 0, 0.3));\n",
              "      fill: #FFFFFF;\n",
              "    }\n",
              "  </style>\n",
              "\n",
              "      <script>\n",
              "        const buttonEl =\n",
              "          document.querySelector('#df-967f5da6-d596-426b-a219-15c84efd37d0 button.colab-df-convert');\n",
              "        buttonEl.style.display =\n",
              "          google.colab.kernel.accessAllowed ? 'block' : 'none';\n",
              "\n",
              "        async function convertToInteractive(key) {\n",
              "          const element = document.querySelector('#df-967f5da6-d596-426b-a219-15c84efd37d0');\n",
              "          const dataTable =\n",
              "            await google.colab.kernel.invokeFunction('convertToInteractive',\n",
              "                                                     [key], {});\n",
              "          if (!dataTable) return;\n",
              "\n",
              "          const docLinkHtml = 'Like what you see? Visit the ' +\n",
              "            '<a target=\"_blank\" href=https://colab.research.google.com/notebooks/data_table.ipynb>data table notebook</a>'\n",
              "            + ' to learn more about interactive tables.';\n",
              "          element.innerHTML = '';\n",
              "          dataTable['output_type'] = 'display_data';\n",
              "          await google.colab.output.renderOutput(dataTable, element);\n",
              "          const docLink = document.createElement('div');\n",
              "          docLink.innerHTML = docLinkHtml;\n",
              "          element.appendChild(docLink);\n",
              "        }\n",
              "      </script>\n",
              "    </div>\n",
              "  </div>\n",
              "  "
            ]
          },
          "metadata": {},
          "execution_count": 28
        }
      ]
    },
    {
      "cell_type": "code",
      "source": [
        "pd.DataFrame(df_current.groupby('Month')['Award_amount_new'].mean())"
      ],
      "metadata": {
        "colab": {
          "base_uri": "https://localhost:8080/",
          "height": 457
        },
        "id": "68RBeyZaang8",
        "outputId": "f178127d-1671-48ae-d1b4-6f6c7c735664"
      },
      "execution_count": 29,
      "outputs": [
        {
          "output_type": "execute_result",
          "data": {
            "text/plain": [
              "       Award_amount_new\n",
              "Month                  \n",
              "1            853.750000\n",
              "2            740.600000\n",
              "3            790.017094\n",
              "4            706.000000\n",
              "5            714.352941\n",
              "6            550.877193\n",
              "7            569.432432\n",
              "8            259.669118\n",
              "9            651.707813\n",
              "10         10773.690282\n",
              "11        115652.547143\n",
              "12          7676.277619"
            ],
            "text/html": [
              "\n",
              "  <div id=\"df-7c0d4a5f-d143-4600-8e80-01124fa8d27e\">\n",
              "    <div class=\"colab-df-container\">\n",
              "      <div>\n",
              "<style scoped>\n",
              "    .dataframe tbody tr th:only-of-type {\n",
              "        vertical-align: middle;\n",
              "    }\n",
              "\n",
              "    .dataframe tbody tr th {\n",
              "        vertical-align: top;\n",
              "    }\n",
              "\n",
              "    .dataframe thead th {\n",
              "        text-align: right;\n",
              "    }\n",
              "</style>\n",
              "<table border=\"1\" class=\"dataframe\">\n",
              "  <thead>\n",
              "    <tr style=\"text-align: right;\">\n",
              "      <th></th>\n",
              "      <th>Award_amount_new</th>\n",
              "    </tr>\n",
              "    <tr>\n",
              "      <th>Month</th>\n",
              "      <th></th>\n",
              "    </tr>\n",
              "  </thead>\n",
              "  <tbody>\n",
              "    <tr>\n",
              "      <th>1</th>\n",
              "      <td>853.750000</td>\n",
              "    </tr>\n",
              "    <tr>\n",
              "      <th>2</th>\n",
              "      <td>740.600000</td>\n",
              "    </tr>\n",
              "    <tr>\n",
              "      <th>3</th>\n",
              "      <td>790.017094</td>\n",
              "    </tr>\n",
              "    <tr>\n",
              "      <th>4</th>\n",
              "      <td>706.000000</td>\n",
              "    </tr>\n",
              "    <tr>\n",
              "      <th>5</th>\n",
              "      <td>714.352941</td>\n",
              "    </tr>\n",
              "    <tr>\n",
              "      <th>6</th>\n",
              "      <td>550.877193</td>\n",
              "    </tr>\n",
              "    <tr>\n",
              "      <th>7</th>\n",
              "      <td>569.432432</td>\n",
              "    </tr>\n",
              "    <tr>\n",
              "      <th>8</th>\n",
              "      <td>259.669118</td>\n",
              "    </tr>\n",
              "    <tr>\n",
              "      <th>9</th>\n",
              "      <td>651.707813</td>\n",
              "    </tr>\n",
              "    <tr>\n",
              "      <th>10</th>\n",
              "      <td>10773.690282</td>\n",
              "    </tr>\n",
              "    <tr>\n",
              "      <th>11</th>\n",
              "      <td>115652.547143</td>\n",
              "    </tr>\n",
              "    <tr>\n",
              "      <th>12</th>\n",
              "      <td>7676.277619</td>\n",
              "    </tr>\n",
              "  </tbody>\n",
              "</table>\n",
              "</div>\n",
              "      <button class=\"colab-df-convert\" onclick=\"convertToInteractive('df-7c0d4a5f-d143-4600-8e80-01124fa8d27e')\"\n",
              "              title=\"Convert this dataframe to an interactive table.\"\n",
              "              style=\"display:none;\">\n",
              "        \n",
              "  <svg xmlns=\"http://www.w3.org/2000/svg\" height=\"24px\"viewBox=\"0 0 24 24\"\n",
              "       width=\"24px\">\n",
              "    <path d=\"M0 0h24v24H0V0z\" fill=\"none\"/>\n",
              "    <path d=\"M18.56 5.44l.94 2.06.94-2.06 2.06-.94-2.06-.94-.94-2.06-.94 2.06-2.06.94zm-11 1L8.5 8.5l.94-2.06 2.06-.94-2.06-.94L8.5 2.5l-.94 2.06-2.06.94zm10 10l.94 2.06.94-2.06 2.06-.94-2.06-.94-.94-2.06-.94 2.06-2.06.94z\"/><path d=\"M17.41 7.96l-1.37-1.37c-.4-.4-.92-.59-1.43-.59-.52 0-1.04.2-1.43.59L10.3 9.45l-7.72 7.72c-.78.78-.78 2.05 0 2.83L4 21.41c.39.39.9.59 1.41.59.51 0 1.02-.2 1.41-.59l7.78-7.78 2.81-2.81c.8-.78.8-2.07 0-2.86zM5.41 20L4 18.59l7.72-7.72 1.47 1.35L5.41 20z\"/>\n",
              "  </svg>\n",
              "      </button>\n",
              "      \n",
              "  <style>\n",
              "    .colab-df-container {\n",
              "      display:flex;\n",
              "      flex-wrap:wrap;\n",
              "      gap: 12px;\n",
              "    }\n",
              "\n",
              "    .colab-df-convert {\n",
              "      background-color: #E8F0FE;\n",
              "      border: none;\n",
              "      border-radius: 50%;\n",
              "      cursor: pointer;\n",
              "      display: none;\n",
              "      fill: #1967D2;\n",
              "      height: 32px;\n",
              "      padding: 0 0 0 0;\n",
              "      width: 32px;\n",
              "    }\n",
              "\n",
              "    .colab-df-convert:hover {\n",
              "      background-color: #E2EBFA;\n",
              "      box-shadow: 0px 1px 2px rgba(60, 64, 67, 0.3), 0px 1px 3px 1px rgba(60, 64, 67, 0.15);\n",
              "      fill: #174EA6;\n",
              "    }\n",
              "\n",
              "    [theme=dark] .colab-df-convert {\n",
              "      background-color: #3B4455;\n",
              "      fill: #D2E3FC;\n",
              "    }\n",
              "\n",
              "    [theme=dark] .colab-df-convert:hover {\n",
              "      background-color: #434B5C;\n",
              "      box-shadow: 0px 1px 3px 1px rgba(0, 0, 0, 0.15);\n",
              "      filter: drop-shadow(0px 1px 2px rgba(0, 0, 0, 0.3));\n",
              "      fill: #FFFFFF;\n",
              "    }\n",
              "  </style>\n",
              "\n",
              "      <script>\n",
              "        const buttonEl =\n",
              "          document.querySelector('#df-7c0d4a5f-d143-4600-8e80-01124fa8d27e button.colab-df-convert');\n",
              "        buttonEl.style.display =\n",
              "          google.colab.kernel.accessAllowed ? 'block' : 'none';\n",
              "\n",
              "        async function convertToInteractive(key) {\n",
              "          const element = document.querySelector('#df-7c0d4a5f-d143-4600-8e80-01124fa8d27e');\n",
              "          const dataTable =\n",
              "            await google.colab.kernel.invokeFunction('convertToInteractive',\n",
              "                                                     [key], {});\n",
              "          if (!dataTable) return;\n",
              "\n",
              "          const docLinkHtml = 'Like what you see? Visit the ' +\n",
              "            '<a target=\"_blank\" href=https://colab.research.google.com/notebooks/data_table.ipynb>data table notebook</a>'\n",
              "            + ' to learn more about interactive tables.';\n",
              "          element.innerHTML = '';\n",
              "          dataTable['output_type'] = 'display_data';\n",
              "          await google.colab.output.renderOutput(dataTable, element);\n",
              "          const docLink = document.createElement('div');\n",
              "          docLink.innerHTML = docLinkHtml;\n",
              "          element.appendChild(docLink);\n",
              "        }\n",
              "      </script>\n",
              "    </div>\n",
              "  </div>\n",
              "  "
            ]
          },
          "metadata": {},
          "execution_count": 29
        }
      ]
    },
    {
      "cell_type": "code",
      "source": [
        "pd.DataFrame(df_current.groupby('Month')['Award_amount_new'].mean()).plot(kind='bar')\n",
        "plt.show()"
      ],
      "metadata": {
        "colab": {
          "base_uri": "https://localhost:8080/",
          "height": 326
        },
        "id": "ZbrULjRpcVIS",
        "outputId": "f090ceb2-e151-42ff-8425-860b31479f13"
      },
      "execution_count": 38,
      "outputs": [
        {
          "output_type": "display_data",
          "data": {
            "text/plain": [
              "<Figure size 432x288 with 1 Axes>"
            ],
            "image/png": "[encoded data removed]"
          },
          "metadata": {
            "needs_background": "light"
          }
        }
      ]
    },
    {
      "cell_type": "code",
      "source": [
        "df_current['Weekday'].value_counts()"
      ],
      "metadata": {
        "colab": {
          "base_uri": "https://localhost:8080/"
        },
        "id": "LMUTZW-xd6_2",
        "outputId": "087acc56-6a73-4b7e-f98b-79dbfd2fc5c3"
      },
      "execution_count": 31,
      "outputs": [
        {
          "output_type": "execute_result",
          "data": {
            "text/plain": [
              "Wednesday    250\n",
              "Friday       159\n",
              "Thursday     158\n",
              "Tuesday      132\n",
              "Monday        93\n",
              "Saturday      70\n",
              "Name: Weekday, dtype: int64"
            ]
          },
          "metadata": {},
          "execution_count": 31
        }
      ]
    },
    {
      "cell_type": "code",
      "source": [
        "df_current['Weekday'].value_counts().plot(kind='barh')\n",
        "plt.show()"
      ],
      "metadata": {
        "colab": {
          "base_uri": "https://localhost:8080/",
          "height": 265
        },
        "id": "rKSTXhfud68x",
        "outputId": "0bda854f-6b91-4a6a-98c8-c5fc6df74bf2"
      },
      "execution_count": 32,
      "outputs": [
        {
          "output_type": "display_data",
          "data": {
            "text/plain": [
              "<Figure size 432x288 with 1 Axes>"
            ],
            "image/png": "[encoded data removed]"
          },
          "metadata": {
            "needs_background": "light"
          }
        }
      ]
    },
    {
      "cell_type": "code",
      "source": [],
      "metadata": {
        "id": "Q_NxR5did63q"
      },
      "execution_count": null,
      "outputs": []
    }
  ]
}