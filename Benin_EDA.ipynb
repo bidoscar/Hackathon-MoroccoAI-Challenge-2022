{
  "nbformat": 4,
  "nbformat_minor": 0,
  "metadata": {
    "colab": {
      "provenance": []
    },
    "kernelspec": {
      "name": "python3",
      "display_name": "Python 3"
    },
    "language_info": {
      "name": "python"
    }
  },
  "cells": [
    {
      "cell_type": "markdown",
      "source": [
        "# **Translate**"
      ],
      "metadata": {
        "id": "Cp6cji0JFhuH"
      }
    },
    {
      "cell_type": "code",
      "execution_count": 1,
      "metadata": {
        "colab": {
          "base_uri": "https://localhost:8080/"
        },
        "id": "mdvF41jpPjeD",
        "outputId": "a43823e4-d27c-47cf-d0c3-2a930cfda816"
      },
      "outputs": [
        {
          "output_type": "stream",
          "name": "stdout",
          "text": [
            "\u001b[K     |████████████████████████████████| 55 kB 4.1 MB/s \n",
            "\u001b[K     |████████████████████████████████| 1.5 MB 69.8 MB/s \n",
            "\u001b[K     |████████████████████████████████| 42 kB 1.6 MB/s \n",
            "\u001b[K     |████████████████████████████████| 65 kB 4.5 MB/s \n",
            "\u001b[K     |████████████████████████████████| 53 kB 2.8 MB/s \n",
            "\u001b[?25h  Building wheel for googletrans (setup.py) ... \u001b[?25l\u001b[?25hdone\n"
          ]
        }
      ],
      "source": [
        "pip install googletrans==3.1.0a0 --quiet"
      ]
    },
    {
      "cell_type": "code",
      "source": [
        "# To test how it works\n",
        "from googletrans import Translator\n",
        "translator = Translator()"
      ],
      "metadata": {
        "id": "7Eg4QWo-Pqso"
      },
      "execution_count": 2,
      "outputs": []
    },
    {
      "cell_type": "code",
      "source": [
        "import pandas as pd\n",
        "import numpy as np\n",
        "import matplotlib.pyplot as plt"
      ],
      "metadata": {
        "id": "d5xvP_dVP9bw"
      },
      "execution_count": 3,
      "outputs": []
    },
    {
      "cell_type": "code",
      "source": [
        "df = pd.read_csv('benin_scripping_dataset.csv')"
      ],
      "metadata": {
        "id": "sxrKuEcYPsr2"
      },
      "execution_count": 4,
      "outputs": []
    },
    {
      "cell_type": "code",
      "source": [
        "df.info()"
      ],
      "metadata": {
        "colab": {
          "base_uri": "https://localhost:8080/"
        },
        "id": "WrYtSB-enA6v",
        "outputId": "8245f490-1070-4953-9732-b5082be46082"
      },
      "execution_count": 5,
      "outputs": [
        {
          "output_type": "stream",
          "name": "stdout",
          "text": [
            "<class 'pandas.core.frame.DataFrame'>\n",
            "RangeIndex: 710 entries, 0 to 709\n",
            "Data columns (total 6 columns):\n",
            " #   Column                 Non-Null Count  Dtype \n",
            "---  ------                 --------------  ----- \n",
            " 0   Reference_id           710 non-null    object\n",
            " 1   Contracting_Authority  710 non-null    object\n",
            " 2   Offer_Sel_Date         710 non-null    object\n",
            " 3   Title_entry            710 non-null    object\n",
            " 4   Start_date             704 non-null    object\n",
            " 5   End_date               710 non-null    object\n",
            "dtypes: object(6)\n",
            "memory usage: 33.4+ KB\n"
          ]
        }
      ]
    },
    {
      "cell_type": "code",
      "source": [
        "df.dtypes"
      ],
      "metadata": {
        "colab": {
          "base_uri": "https://localhost:8080/"
        },
        "id": "iC5J4QZBtQE0",
        "outputId": "a857e6da-35f4-4983-a2a2-db61c8d794c6"
      },
      "execution_count": 6,
      "outputs": [
        {
          "output_type": "execute_result",
          "data": {
            "text/plain": [
              "Reference_id             object\n",
              "Contracting_Authority    object\n",
              "Offer_Sel_Date           object\n",
              "Title_entry              object\n",
              "Start_date               object\n",
              "End_date                 object\n",
              "dtype: object"
            ]
          },
          "metadata": {},
          "execution_count": 6
        }
      ]
    },
    {
      "cell_type": "code",
      "source": [
        "df['Start_date'] = pd.to_datetime(df['Start_date'])"
      ],
      "metadata": {
        "id": "Ra8jBV7otX39"
      },
      "execution_count": 7,
      "outputs": []
    },
    {
      "cell_type": "code",
      "source": [
        "df['End_date'] = pd.to_datetime(df['End_date'])"
      ],
      "metadata": {
        "id": "KfVDXNZDtp3n"
      },
      "execution_count": 8,
      "outputs": []
    },
    {
      "cell_type": "code",
      "source": [
        "df_current = df"
      ],
      "metadata": {
        "id": "16JhHL0IwdFC"
      },
      "execution_count": 9,
      "outputs": []
    },
    {
      "cell_type": "code",
      "source": [
        "df_current['Start_month'] = pd.to_datetime(df_current['Start_date']).dt.month"
      ],
      "metadata": {
        "id": "xMB0QiSGwFq3"
      },
      "execution_count": 10,
      "outputs": []
    },
    {
      "cell_type": "code",
      "source": [
        "df_current['End_month'] = pd.to_datetime(df_current['End_date']).dt.month"
      ],
      "metadata": {
        "id": "xng6pn6awFj6"
      },
      "execution_count": 11,
      "outputs": []
    },
    {
      "cell_type": "code",
      "source": [
        "df_current['End_year'] = pd.to_datetime(df_current['End_date']).dt.year"
      ],
      "metadata": {
        "id": "FAcx0HRgwFdy"
      },
      "execution_count": 12,
      "outputs": []
    },
    {
      "cell_type": "code",
      "source": [
        "df_current.head()"
      ],
      "metadata": {
        "colab": {
          "base_uri": "https://localhost:8080/",
          "height": 531
        },
        "id": "SQQQBl-DxBx8",
        "outputId": "10f226a8-bcc2-4665-a41f-e6f357596b24"
      },
      "execution_count": 13,
      "outputs": [
        {
          "output_type": "execute_result",
          "data": {
            "text/plain": [
              "       Reference_id                              Contracting_Authority  \\\n",
              "0  T_PAGEFCOM_55261  Ministère du Cadre de Vie et du Développement ...   \n",
              "1      T_DPET_62490  Agence Nationale d'Approvisionnement en Eau Po...   \n",
              "2        T_ST_56438                                  Commune d'Athiémé   \n",
              "3     S_DQSSE_66707                           Port Autonome de Cotonou   \n",
              "4       T_DST_66375                                  Commune de Ouidah   \n",
              "\n",
              "  Offer_Sel_Date                                        Title_entry  \\\n",
              "0     03-12-2024  Travaux de mise en œuvre des plans d'aménageme...   \n",
              "1     18-01-2023  Réalisation des travaux des Systèmes d'Approvi...   \n",
              "2     11-01-2023  Travaux de réhabilitation de l’ancien ouvrage ...   \n",
              "3     06-01-2023  Accord cadre pour le regroupement et le convoy...   \n",
              "4     05-01-2023  Travaux de réalisation d'une clôture partielle...   \n",
              "\n",
              "  Start_date   End_date  Start_month  End_month  End_year  \n",
              "0 2022-12-12 2023-03-12         12.0          3      2023  \n",
              "1 2022-12-15 2023-01-18         12.0          1      2023  \n",
              "2 2022-12-12 2023-11-01         12.0         11      2023  \n",
              "3 2022-05-12 2023-06-01          5.0          6      2023  \n",
              "4 2022-05-12 2023-05-01          5.0          5      2023  "
            ],
            "text/html": [
              "\n",
              "  <div id=\"df-40840733-9431-4abb-9d3a-8dfe434f68e4\">\n",
              "    <div class=\"colab-df-container\">\n",
              "      <div>\n",
              "<style scoped>\n",
              "    .dataframe tbody tr th:only-of-type {\n",
              "        vertical-align: middle;\n",
              "    }\n",
              "\n",
              "    .dataframe tbody tr th {\n",
              "        vertical-align: top;\n",
              "    }\n",
              "\n",
              "    .dataframe thead th {\n",
              "        text-align: right;\n",
              "    }\n",
              "</style>\n",
              "<table border=\"1\" class=\"dataframe\">\n",
              "  <thead>\n",
              "    <tr style=\"text-align: right;\">\n",
              "      <th></th>\n",
              "      <th>Reference_id</th>\n",
              "      <th>Contracting_Authority</th>\n",
              "      <th>Offer_Sel_Date</th>\n",
              "      <th>Title_entry</th>\n",
              "      <th>Start_date</th>\n",
              "      <th>End_date</th>\n",
              "      <th>Start_month</th>\n",
              "      <th>End_month</th>\n",
              "      <th>End_year</th>\n",
              "    </tr>\n",
              "  </thead>\n",
              "  <tbody>\n",
              "    <tr>\n",
              "      <th>0</th>\n",
              "      <td>T_PAGEFCOM_55261</td>\n",
              "      <td>Ministère du Cadre de Vie et du Développement ...</td>\n",
              "      <td>03-12-2024</td>\n",
              "      <td>Travaux de mise en œuvre des plans d'aménageme...</td>\n",
              "      <td>2022-12-12</td>\n",
              "      <td>2023-03-12</td>\n",
              "      <td>12.0</td>\n",
              "      <td>3</td>\n",
              "      <td>2023</td>\n",
              "    </tr>\n",
              "    <tr>\n",
              "      <th>1</th>\n",
              "      <td>T_DPET_62490</td>\n",
              "      <td>Agence Nationale d'Approvisionnement en Eau Po...</td>\n",
              "      <td>18-01-2023</td>\n",
              "      <td>Réalisation des travaux des Systèmes d'Approvi...</td>\n",
              "      <td>2022-12-15</td>\n",
              "      <td>2023-01-18</td>\n",
              "      <td>12.0</td>\n",
              "      <td>1</td>\n",
              "      <td>2023</td>\n",
              "    </tr>\n",
              "    <tr>\n",
              "      <th>2</th>\n",
              "      <td>T_ST_56438</td>\n",
              "      <td>Commune d'Athiémé</td>\n",
              "      <td>11-01-2023</td>\n",
              "      <td>Travaux de réhabilitation de l’ancien ouvrage ...</td>\n",
              "      <td>2022-12-12</td>\n",
              "      <td>2023-11-01</td>\n",
              "      <td>12.0</td>\n",
              "      <td>11</td>\n",
              "      <td>2023</td>\n",
              "    </tr>\n",
              "    <tr>\n",
              "      <th>3</th>\n",
              "      <td>S_DQSSE_66707</td>\n",
              "      <td>Port Autonome de Cotonou</td>\n",
              "      <td>06-01-2023</td>\n",
              "      <td>Accord cadre pour le regroupement et le convoy...</td>\n",
              "      <td>2022-05-12</td>\n",
              "      <td>2023-06-01</td>\n",
              "      <td>5.0</td>\n",
              "      <td>6</td>\n",
              "      <td>2023</td>\n",
              "    </tr>\n",
              "    <tr>\n",
              "      <th>4</th>\n",
              "      <td>T_DST_66375</td>\n",
              "      <td>Commune de Ouidah</td>\n",
              "      <td>05-01-2023</td>\n",
              "      <td>Travaux de réalisation d'une clôture partielle...</td>\n",
              "      <td>2022-05-12</td>\n",
              "      <td>2023-05-01</td>\n",
              "      <td>5.0</td>\n",
              "      <td>5</td>\n",
              "      <td>2023</td>\n",
              "    </tr>\n",
              "  </tbody>\n",
              "</table>\n",
              "</div>\n",
              "      <button class=\"colab-df-convert\" onclick=\"convertToInteractive('df-40840733-9431-4abb-9d3a-8dfe434f68e4')\"\n",
              "              title=\"Convert this dataframe to an interactive table.\"\n",
              "              style=\"display:none;\">\n",
              "        \n",
              "  <svg xmlns=\"http://www.w3.org/2000/svg\" height=\"24px\"viewBox=\"0 0 24 24\"\n",
              "       width=\"24px\">\n",
              "    <path d=\"M0 0h24v24H0V0z\" fill=\"none\"/>\n",
              "    <path d=\"M18.56 5.44l.94 2.06.94-2.06 2.06-.94-2.06-.94-.94-2.06-.94 2.06-2.06.94zm-11 1L8.5 8.5l.94-2.06 2.06-.94-2.06-.94L8.5 2.5l-.94 2.06-2.06.94zm10 10l.94 2.06.94-2.06 2.06-.94-2.06-.94-.94-2.06-.94 2.06-2.06.94z\"/><path d=\"M17.41 7.96l-1.37-1.37c-.4-.4-.92-.59-1.43-.59-.52 0-1.04.2-1.43.59L10.3 9.45l-7.72 7.72c-.78.78-.78 2.05 0 2.83L4 21.41c.39.39.9.59 1.41.59.51 0 1.02-.2 1.41-.59l7.78-7.78 2.81-2.81c.8-.78.8-2.07 0-2.86zM5.41 20L4 18.59l7.72-7.72 1.47 1.35L5.41 20z\"/>\n",
              "  </svg>\n",
              "      </button>\n",
              "      \n",
              "  <style>\n",
              "    .colab-df-container {\n",
              "      display:flex;\n",
              "      flex-wrap:wrap;\n",
              "      gap: 12px;\n",
              "    }\n",
              "\n",
              "    .colab-df-convert {\n",
              "      background-color: #E8F0FE;\n",
              "      border: none;\n",
              "      border-radius: 50%;\n",
              "      cursor: pointer;\n",
              "      display: none;\n",
              "      fill: #1967D2;\n",
              "      height: 32px;\n",
              "      padding: 0 0 0 0;\n",
              "      width: 32px;\n",
              "    }\n",
              "\n",
              "    .colab-df-convert:hover {\n",
              "      background-color: #E2EBFA;\n",
              "      box-shadow: 0px 1px 2px rgba(60, 64, 67, 0.3), 0px 1px 3px 1px rgba(60, 64, 67, 0.15);\n",
              "      fill: #174EA6;\n",
              "    }\n",
              "\n",
              "    [theme=dark] .colab-df-convert {\n",
              "      background-color: #3B4455;\n",
              "      fill: #D2E3FC;\n",
              "    }\n",
              "\n",
              "    [theme=dark] .colab-df-convert:hover {\n",
              "      background-color: #434B5C;\n",
              "      box-shadow: 0px 1px 3px 1px rgba(0, 0, 0, 0.15);\n",
              "      filter: drop-shadow(0px 1px 2px rgba(0, 0, 0, 0.3));\n",
              "      fill: #FFFFFF;\n",
              "    }\n",
              "  </style>\n",
              "\n",
              "      <script>\n",
              "        const buttonEl =\n",
              "          document.querySelector('#df-40840733-9431-4abb-9d3a-8dfe434f68e4 button.colab-df-convert');\n",
              "        buttonEl.style.display =\n",
              "          google.colab.kernel.accessAllowed ? 'block' : 'none';\n",
              "\n",
              "        async function convertToInteractive(key) {\n",
              "          const element = document.querySelector('#df-40840733-9431-4abb-9d3a-8dfe434f68e4');\n",
              "          const dataTable =\n",
              "            await google.colab.kernel.invokeFunction('convertToInteractive',\n",
              "                                                     [key], {});\n",
              "          if (!dataTable) return;\n",
              "\n",
              "          const docLinkHtml = 'Like what you see? Visit the ' +\n",
              "            '<a target=\"_blank\" href=https://colab.research.google.com/notebooks/data_table.ipynb>data table notebook</a>'\n",
              "            + ' to learn more about interactive tables.';\n",
              "          element.innerHTML = '';\n",
              "          dataTable['output_type'] = 'display_data';\n",
              "          await google.colab.output.renderOutput(dataTable, element);\n",
              "          const docLink = document.createElement('div');\n",
              "          docLink.innerHTML = docLinkHtml;\n",
              "          element.appendChild(docLink);\n",
              "        }\n",
              "      </script>\n",
              "    </div>\n",
              "  </div>\n",
              "  "
            ]
          },
          "metadata": {},
          "execution_count": 13
        }
      ]
    },
    {
      "cell_type": "markdown",
      "source": [
        "# **Translation**"
      ],
      "metadata": {
        "id": "slJnx90Lw6yU"
      }
    },
    {
      "cell_type": "code",
      "source": [
        "# to create new columns with the translation inside\n",
        "# It would take a while, so be patient when runing\n",
        "french_list = ['Title_entry', 'Contracting_Authority']\n",
        "for name in french_list : \n",
        "  new_name = f'{name}_trans'\n",
        "  df_current[new_name] = df_current[name]\n",
        "  for i in range(len(df)) : \n",
        "    df_current[new_name][i] = translator.translate(df[name][i], src='fr', dest=\"en\").text"
      ],
      "metadata": {
        "colab": {
          "base_uri": "https://localhost:8080/"
        },
        "id": "Xzf7Y1X9wFaE",
        "outputId": "131c954f-2a24-4666-a725-503b902de785"
      },
      "execution_count": 14,
      "outputs": [
        {
          "output_type": "stream",
          "name": "stderr",
          "text": [
            "<ipython-input-14-3ba59b7ec486>:8: SettingWithCopyWarning: \n",
            "A value is trying to be set on a copy of a slice from a DataFrame\n",
            "\n",
            "See the caveats in the documentation: https://pandas.pydata.org/pandas-docs/stable/user_guide/indexing.html#returning-a-view-versus-a-copy\n",
            "  df_current[new_name][i] = translator.translate(df[name][i], src='fr', dest=\"en\").text\n"
          ]
        }
      ]
    },
    {
      "cell_type": "code",
      "source": [
        "# to export the data and download it\n",
        "from google.colab import files\n",
        "df_current.to_csv('df_benin_trans.csv', encoding = 'utf-8-sig') \n",
        "files.download('df_benin_trans.csv')"
      ],
      "metadata": {
        "colab": {
          "base_uri": "https://localhost:8080/",
          "height": 17
        },
        "id": "9s36Hv3jw5p5",
        "outputId": "f3c0e5c7-afd0-45d0-bf4d-48338ab586fa"
      },
      "execution_count": 15,
      "outputs": [
        {
          "output_type": "display_data",
          "data": {
            "text/plain": [
              "<IPython.core.display.Javascript object>"
            ],
            "application/javascript": [
              "\n",
              "    async function download(id, filename, size) {\n",
              "      if (!google.colab.kernel.accessAllowed) {\n",
              "        return;\n",
              "      }\n",
              "      const div = document.createElement('div');\n",
              "      const label = document.createElement('label');\n",
              "      label.textContent = `Downloading \"${filename}\": `;\n",
              "      div.appendChild(label);\n",
              "      const progress = document.createElement('progress');\n",
              "      progress.max = size;\n",
              "      div.appendChild(progress);\n",
              "      document.body.appendChild(div);\n",
              "\n",
              "      const buffers = [];\n",
              "      let downloaded = 0;\n",
              "\n",
              "      const channel = await google.colab.kernel.comms.open(id);\n",
              "      // Send a message to notify the kernel that we're ready.\n",
              "      channel.send({})\n",
              "\n",
              "      for await (const message of channel.messages) {\n",
              "        // Send a message to notify the kernel that we're ready.\n",
              "        channel.send({})\n",
              "        if (message.buffers) {\n",
              "          for (const buffer of message.buffers) {\n",
              "            buffers.push(buffer);\n",
              "            downloaded += buffer.byteLength;\n",
              "            progress.value = downloaded;\n",
              "          }\n",
              "        }\n",
              "      }\n",
              "      const blob = new Blob(buffers, {type: 'application/binary'});\n",
              "      const a = document.createElement('a');\n",
              "      a.href = window.URL.createObjectURL(blob);\n",
              "      a.download = filename;\n",
              "      div.appendChild(a);\n",
              "      a.click();\n",
              "      div.remove();\n",
              "    }\n",
              "  "
            ]
          },
          "metadata": {}
        },
        {
          "output_type": "display_data",
          "data": {
            "text/plain": [
              "<IPython.core.display.Javascript object>"
            ],
            "application/javascript": [
              "download(\"download_878d5dc7-68d0-4902-a05c-2c7708d67eb9\", \"df_benin_trans.csv\", 279136)"
            ]
          },
          "metadata": {}
        }
      ]
    },
    {
      "cell_type": "markdown",
      "source": [
        "# **Keywords extraction**"
      ],
      "metadata": {
        "id": "tQUt9pHxyAf1"
      }
    },
    {
      "cell_type": "code",
      "source": [
        "from gensim.summarization import keywords"
      ],
      "metadata": {
        "id": "M_DmFDNAw5mR"
      },
      "execution_count": 16,
      "outputs": []
    },
    {
      "cell_type": "code",
      "source": [
        "new_col = 'Title_entry_kw_fr'\n",
        "df_current[new_col] = df_current['Title_entry']\n",
        "for i in range(len(df)) : \n",
        "  df_current[new_col][i] = keywords(df_current['Title_entry'][i], words=2, split = True, lemmatize=True)"
      ],
      "metadata": {
        "colab": {
          "base_uri": "https://localhost:8080/"
        },
        "id": "KJ0yNecjw5jL",
        "outputId": "b5f83722-2493-4012-fd84-cda48dbf4f6d"
      },
      "execution_count": 17,
      "outputs": [
        {
          "output_type": "stream",
          "name": "stderr",
          "text": [
            "<ipython-input-17-8a3212a942d7>:4: SettingWithCopyWarning: \n",
            "A value is trying to be set on a copy of a slice from a DataFrame\n",
            "\n",
            "See the caveats in the documentation: https://pandas.pydata.org/pandas-docs/stable/user_guide/indexing.html#returning-a-view-versus-a-copy\n",
            "  df_current[new_col][i] = keywords(df_current['Title_entry'][i], words=2, split = True, lemmatize=True)\n"
          ]
        }
      ]
    },
    {
      "cell_type": "code",
      "source": [
        "df_current['Offer_Sel_Date'] = pd.to_datetime(df_current['Offer_Sel_Date'])"
      ],
      "metadata": {
        "id": "tpE-Lhcb2DMQ"
      },
      "execution_count": 19,
      "outputs": []
    },
    {
      "cell_type": "code",
      "source": [
        "df_current['Duration'] = df_current['End_date'] - df_current['Start_date']"
      ],
      "metadata": {
        "id": "yDWsMRSg2P_X"
      },
      "execution_count": 20,
      "outputs": []
    },
    {
      "cell_type": "code",
      "source": [
        "#Converting the numeric variables in release_day to string\n",
        "mapper = {1:'January',2:'February',3:'March',4:'April',5:'May',6:'June',7:'July',8:'August',9:'September',10:'October',11:'November',12:'December'}\n",
        "df_current['Start_month'] = df_current['Start_month'].map(mapper)\n",
        "df_current['End_month'] = df_current['End_month'].map(mapper)"
      ],
      "metadata": {
        "id": "tqDOisTLe1pJ"
      },
      "execution_count": 31,
      "outputs": []
    },
    {
      "cell_type": "code",
      "source": [
        "df_current.head(10)"
      ],
      "metadata": {
        "colab": {
          "base_uri": "https://localhost:8080/",
          "height": 948
        },
        "id": "THr4KK7Ww5ft",
        "outputId": "9771bc74-678c-4002-f8c9-e78beca3de67"
      },
      "execution_count": 32,
      "outputs": [
        {
          "output_type": "execute_result",
          "data": {
            "text/plain": [
              "       Reference_id                              Contracting_Authority  \\\n",
              "0  T_PAGEFCOM_55261  Ministère du Cadre de Vie et du Développement ...   \n",
              "1      T_DPET_62490  Agence Nationale d'Approvisionnement en Eau Po...   \n",
              "2        T_ST_56438                                  Commune d'Athiémé   \n",
              "3     S_DQSSE_66707                           Port Autonome de Cotonou   \n",
              "4       T_DST_66375                                  Commune de Ouidah   \n",
              "5       T_DST_66751                                  Mairie de Cotonou   \n",
              "6        S_DT_67214                           Port Autonome de Cotonou   \n",
              "7        T_ST_62925                                    Commune de Savè   \n",
              "8        F_ST_67438                                   Commune de Kétou   \n",
              "9        T_ST_61211                                 Commune d'Adjohoun   \n",
              "\n",
              "  Offer_Sel_Date                                        Title_entry  \\\n",
              "0     2024-03-12  Travaux de mise en œuvre des plans d'aménageme...   \n",
              "1     2023-01-18  Réalisation des travaux des Systèmes d'Approvi...   \n",
              "2     2023-11-01  Travaux de réhabilitation de l’ancien ouvrage ...   \n",
              "3     2023-06-01  Accord cadre pour le regroupement et le convoy...   \n",
              "4     2023-05-01  Travaux de réalisation d'une clôture partielle...   \n",
              "5     2023-05-01  Construction et équipements de bâtiments de ty...   \n",
              "6     2023-05-01  Sondage bathymétrique du bassin et chenal d’ac...   \n",
              "7     2023-04-01  Travaux d’aménagement de la rocade de OUOGHI a...   \n",
              "8     2023-03-01  Acquisition de pièce des rechange dans le cadr...   \n",
              "9     2022-12-29  Travaux de réhabilitation des bureaux de la Ré...   \n",
              "\n",
              "  Start_date   End_date Start_month End_month  End_year  \\\n",
              "0 2022-12-12 2023-03-12    December     March      2023   \n",
              "1 2022-12-15 2023-01-18    December   January      2023   \n",
              "2 2022-12-12 2023-11-01    December  November      2023   \n",
              "3 2022-05-12 2023-06-01         May      June      2023   \n",
              "4 2022-05-12 2023-05-01         May       May      2023   \n",
              "5 2022-12-14 2023-05-01    December       May      2023   \n",
              "6 2022-11-28 2023-05-01    November       May      2023   \n",
              "7 2022-12-12 2023-04-01    December     April      2023   \n",
              "8 2022-12-12 2023-03-01    December     March      2023   \n",
              "9 2022-12-15 2022-12-29    December  December      2022   \n",
              "\n",
              "                                   Title_entry_trans  \\\n",
              "0  Implementation works of simplified management ...   \n",
              "1  Completion of works for the Multi-Village Drin...   \n",
              "2  Rehabilitation works of the old crossing struc...   \n",
              "3  Framework agreement for the grouping and conve...   \n",
              "4  Construction works of a partial fence at EPP G...   \n",
              "5  Construction and equipment of R+2 type buildin...   \n",
              "6  Bathymetric survey of the basin and access cha...   \n",
              "7  Development works of the OUOGHI ring road with...   \n",
              "8  Acquisition of spare parts as part of the reha...   \n",
              "9  Rehabilitation works of the offices of the Ped...   \n",
              "\n",
              "                         Contracting_Authority_trans  \\\n",
              "0  Ministry of the Living Environment and Sustain...   \n",
              "1  National Agency for Drinking Water Supply in R...   \n",
              "2                            Municipality of Athieme   \n",
              "3                         Autonomous Port of Cotonou   \n",
              "4                             Municipality of Ouidah   \n",
              "5                               City hall of Cotonou   \n",
              "6                         Autonomous Port of Cotonou   \n",
              "7                                    Commune of Save   \n",
              "8                              Municipality of Ketou   \n",
              "9                           Municipality of Adjohoun   \n",
              "\n",
              "          Title_entry_kw_fr Duration  \n",
              "0         [des, simplifiee]  90 days  \n",
              "1           [des, villages]  34 days  \n",
              "2     [ouvrages, lineaires] 324 days  \n",
              "3              [des, cadre] 385 days  \n",
              "4            [lot, portail] 354 days  \n",
              "5                [ceg, les] 138 days  \n",
              "6  [sondage, bathymetrique] 154 days  \n",
              "7               [avec, lot] 110 days  \n",
              "8                [des, sur]  79 days  \n",
              "9             [des, region]  14 days  "
            ],
            "text/html": [
              "\n",
              "  <div id=\"df-d8ad51b9-69c1-4309-a4ff-5f00a37e0fb5\">\n",
              "    <div class=\"colab-df-container\">\n",
              "      <div>\n",
              "<style scoped>\n",
              "    .dataframe tbody tr th:only-of-type {\n",
              "        vertical-align: middle;\n",
              "    }\n",
              "\n",
              "    .dataframe tbody tr th {\n",
              "        vertical-align: top;\n",
              "    }\n",
              "\n",
              "    .dataframe thead th {\n",
              "        text-align: right;\n",
              "    }\n",
              "</style>\n",
              "<table border=\"1\" class=\"dataframe\">\n",
              "  <thead>\n",
              "    <tr style=\"text-align: right;\">\n",
              "      <th></th>\n",
              "      <th>Reference_id</th>\n",
              "      <th>Contracting_Authority</th>\n",
              "      <th>Offer_Sel_Date</th>\n",
              "      <th>Title_entry</th>\n",
              "      <th>Start_date</th>\n",
              "      <th>End_date</th>\n",
              "      <th>Start_month</th>\n",
              "      <th>End_month</th>\n",
              "      <th>End_year</th>\n",
              "      <th>Title_entry_trans</th>\n",
              "      <th>Contracting_Authority_trans</th>\n",
              "      <th>Title_entry_kw_fr</th>\n",
              "      <th>Duration</th>\n",
              "    </tr>\n",
              "  </thead>\n",
              "  <tbody>\n",
              "    <tr>\n",
              "      <th>0</th>\n",
              "      <td>T_PAGEFCOM_55261</td>\n",
              "      <td>Ministère du Cadre de Vie et du Développement ...</td>\n",
              "      <td>2024-03-12</td>\n",
              "      <td>Travaux de mise en œuvre des plans d'aménageme...</td>\n",
              "      <td>2022-12-12</td>\n",
              "      <td>2023-03-12</td>\n",
              "      <td>December</td>\n",
              "      <td>March</td>\n",
              "      <td>2023</td>\n",
              "      <td>Implementation works of simplified management ...</td>\n",
              "      <td>Ministry of the Living Environment and Sustain...</td>\n",
              "      <td>[des, simplifiee]</td>\n",
              "      <td>90 days</td>\n",
              "    </tr>\n",
              "    <tr>\n",
              "      <th>1</th>\n",
              "      <td>T_DPET_62490</td>\n",
              "      <td>Agence Nationale d'Approvisionnement en Eau Po...</td>\n",
              "      <td>2023-01-18</td>\n",
              "      <td>Réalisation des travaux des Systèmes d'Approvi...</td>\n",
              "      <td>2022-12-15</td>\n",
              "      <td>2023-01-18</td>\n",
              "      <td>December</td>\n",
              "      <td>January</td>\n",
              "      <td>2023</td>\n",
              "      <td>Completion of works for the Multi-Village Drin...</td>\n",
              "      <td>National Agency for Drinking Water Supply in R...</td>\n",
              "      <td>[des, villages]</td>\n",
              "      <td>34 days</td>\n",
              "    </tr>\n",
              "    <tr>\n",
              "      <th>2</th>\n",
              "      <td>T_ST_56438</td>\n",
              "      <td>Commune d'Athiémé</td>\n",
              "      <td>2023-11-01</td>\n",
              "      <td>Travaux de réhabilitation de l’ancien ouvrage ...</td>\n",
              "      <td>2022-12-12</td>\n",
              "      <td>2023-11-01</td>\n",
              "      <td>December</td>\n",
              "      <td>November</td>\n",
              "      <td>2023</td>\n",
              "      <td>Rehabilitation works of the old crossing struc...</td>\n",
              "      <td>Municipality of Athieme</td>\n",
              "      <td>[ouvrages, lineaires]</td>\n",
              "      <td>324 days</td>\n",
              "    </tr>\n",
              "    <tr>\n",
              "      <th>3</th>\n",
              "      <td>S_DQSSE_66707</td>\n",
              "      <td>Port Autonome de Cotonou</td>\n",
              "      <td>2023-06-01</td>\n",
              "      <td>Accord cadre pour le regroupement et le convoy...</td>\n",
              "      <td>2022-05-12</td>\n",
              "      <td>2023-06-01</td>\n",
              "      <td>May</td>\n",
              "      <td>June</td>\n",
              "      <td>2023</td>\n",
              "      <td>Framework agreement for the grouping and conve...</td>\n",
              "      <td>Autonomous Port of Cotonou</td>\n",
              "      <td>[des, cadre]</td>\n",
              "      <td>385 days</td>\n",
              "    </tr>\n",
              "    <tr>\n",
              "      <th>4</th>\n",
              "      <td>T_DST_66375</td>\n",
              "      <td>Commune de Ouidah</td>\n",
              "      <td>2023-05-01</td>\n",
              "      <td>Travaux de réalisation d'une clôture partielle...</td>\n",
              "      <td>2022-05-12</td>\n",
              "      <td>2023-05-01</td>\n",
              "      <td>May</td>\n",
              "      <td>May</td>\n",
              "      <td>2023</td>\n",
              "      <td>Construction works of a partial fence at EPP G...</td>\n",
              "      <td>Municipality of Ouidah</td>\n",
              "      <td>[lot, portail]</td>\n",
              "      <td>354 days</td>\n",
              "    </tr>\n",
              "    <tr>\n",
              "      <th>5</th>\n",
              "      <td>T_DST_66751</td>\n",
              "      <td>Mairie de Cotonou</td>\n",
              "      <td>2023-05-01</td>\n",
              "      <td>Construction et équipements de bâtiments de ty...</td>\n",
              "      <td>2022-12-14</td>\n",
              "      <td>2023-05-01</td>\n",
              "      <td>December</td>\n",
              "      <td>May</td>\n",
              "      <td>2023</td>\n",
              "      <td>Construction and equipment of R+2 type buildin...</td>\n",
              "      <td>City hall of Cotonou</td>\n",
              "      <td>[ceg, les]</td>\n",
              "      <td>138 days</td>\n",
              "    </tr>\n",
              "    <tr>\n",
              "      <th>6</th>\n",
              "      <td>S_DT_67214</td>\n",
              "      <td>Port Autonome de Cotonou</td>\n",
              "      <td>2023-05-01</td>\n",
              "      <td>Sondage bathymétrique du bassin et chenal d’ac...</td>\n",
              "      <td>2022-11-28</td>\n",
              "      <td>2023-05-01</td>\n",
              "      <td>November</td>\n",
              "      <td>May</td>\n",
              "      <td>2023</td>\n",
              "      <td>Bathymetric survey of the basin and access cha...</td>\n",
              "      <td>Autonomous Port of Cotonou</td>\n",
              "      <td>[sondage, bathymetrique]</td>\n",
              "      <td>154 days</td>\n",
              "    </tr>\n",
              "    <tr>\n",
              "      <th>7</th>\n",
              "      <td>T_ST_62925</td>\n",
              "      <td>Commune de Savè</td>\n",
              "      <td>2023-04-01</td>\n",
              "      <td>Travaux d’aménagement de la rocade de OUOGHI a...</td>\n",
              "      <td>2022-12-12</td>\n",
              "      <td>2023-04-01</td>\n",
              "      <td>December</td>\n",
              "      <td>April</td>\n",
              "      <td>2023</td>\n",
              "      <td>Development works of the OUOGHI ring road with...</td>\n",
              "      <td>Commune of Save</td>\n",
              "      <td>[avec, lot]</td>\n",
              "      <td>110 days</td>\n",
              "    </tr>\n",
              "    <tr>\n",
              "      <th>8</th>\n",
              "      <td>F_ST_67438</td>\n",
              "      <td>Commune de Kétou</td>\n",
              "      <td>2023-03-01</td>\n",
              "      <td>Acquisition de pièce des rechange dans le cadr...</td>\n",
              "      <td>2022-12-12</td>\n",
              "      <td>2023-03-01</td>\n",
              "      <td>December</td>\n",
              "      <td>March</td>\n",
              "      <td>2023</td>\n",
              "      <td>Acquisition of spare parts as part of the reha...</td>\n",
              "      <td>Municipality of Ketou</td>\n",
              "      <td>[des, sur]</td>\n",
              "      <td>79 days</td>\n",
              "    </tr>\n",
              "    <tr>\n",
              "      <th>9</th>\n",
              "      <td>T_ST_61211</td>\n",
              "      <td>Commune d'Adjohoun</td>\n",
              "      <td>2022-12-29</td>\n",
              "      <td>Travaux de réhabilitation des bureaux de la Ré...</td>\n",
              "      <td>2022-12-15</td>\n",
              "      <td>2022-12-29</td>\n",
              "      <td>December</td>\n",
              "      <td>December</td>\n",
              "      <td>2022</td>\n",
              "      <td>Rehabilitation works of the offices of the Ped...</td>\n",
              "      <td>Municipality of Adjohoun</td>\n",
              "      <td>[des, region]</td>\n",
              "      <td>14 days</td>\n",
              "    </tr>\n",
              "  </tbody>\n",
              "</table>\n",
              "</div>\n",
              "      <button class=\"colab-df-convert\" onclick=\"convertToInteractive('df-d8ad51b9-69c1-4309-a4ff-5f00a37e0fb5')\"\n",
              "              title=\"Convert this dataframe to an interactive table.\"\n",
              "              style=\"display:none;\">\n",
              "        \n",
              "  <svg xmlns=\"http://www.w3.org/2000/svg\" height=\"24px\"viewBox=\"0 0 24 24\"\n",
              "       width=\"24px\">\n",
              "    <path d=\"M0 0h24v24H0V0z\" fill=\"none\"/>\n",
              "    <path d=\"M18.56 5.44l.94 2.06.94-2.06 2.06-.94-2.06-.94-.94-2.06-.94 2.06-2.06.94zm-11 1L8.5 8.5l.94-2.06 2.06-.94-2.06-.94L8.5 2.5l-.94 2.06-2.06.94zm10 10l.94 2.06.94-2.06 2.06-.94-2.06-.94-.94-2.06-.94 2.06-2.06.94z\"/><path d=\"M17.41 7.96l-1.37-1.37c-.4-.4-.92-.59-1.43-.59-.52 0-1.04.2-1.43.59L10.3 9.45l-7.72 7.72c-.78.78-.78 2.05 0 2.83L4 21.41c.39.39.9.59 1.41.59.51 0 1.02-.2 1.41-.59l7.78-7.78 2.81-2.81c.8-.78.8-2.07 0-2.86zM5.41 20L4 18.59l7.72-7.72 1.47 1.35L5.41 20z\"/>\n",
              "  </svg>\n",
              "      </button>\n",
              "      \n",
              "  <style>\n",
              "    .colab-df-container {\n",
              "      display:flex;\n",
              "      flex-wrap:wrap;\n",
              "      gap: 12px;\n",
              "    }\n",
              "\n",
              "    .colab-df-convert {\n",
              "      background-color: #E8F0FE;\n",
              "      border: none;\n",
              "      border-radius: 50%;\n",
              "      cursor: pointer;\n",
              "      display: none;\n",
              "      fill: #1967D2;\n",
              "      height: 32px;\n",
              "      padding: 0 0 0 0;\n",
              "      width: 32px;\n",
              "    }\n",
              "\n",
              "    .colab-df-convert:hover {\n",
              "      background-color: #E2EBFA;\n",
              "      box-shadow: 0px 1px 2px rgba(60, 64, 67, 0.3), 0px 1px 3px 1px rgba(60, 64, 67, 0.15);\n",
              "      fill: #174EA6;\n",
              "    }\n",
              "\n",
              "    [theme=dark] .colab-df-convert {\n",
              "      background-color: #3B4455;\n",
              "      fill: #D2E3FC;\n",
              "    }\n",
              "\n",
              "    [theme=dark] .colab-df-convert:hover {\n",
              "      background-color: #434B5C;\n",
              "      box-shadow: 0px 1px 3px 1px rgba(0, 0, 0, 0.15);\n",
              "      filter: drop-shadow(0px 1px 2px rgba(0, 0, 0, 0.3));\n",
              "      fill: #FFFFFF;\n",
              "    }\n",
              "  </style>\n",
              "\n",
              "      <script>\n",
              "        const buttonEl =\n",
              "          document.querySelector('#df-d8ad51b9-69c1-4309-a4ff-5f00a37e0fb5 button.colab-df-convert');\n",
              "        buttonEl.style.display =\n",
              "          google.colab.kernel.accessAllowed ? 'block' : 'none';\n",
              "\n",
              "        async function convertToInteractive(key) {\n",
              "          const element = document.querySelector('#df-d8ad51b9-69c1-4309-a4ff-5f00a37e0fb5');\n",
              "          const dataTable =\n",
              "            await google.colab.kernel.invokeFunction('convertToInteractive',\n",
              "                                                     [key], {});\n",
              "          if (!dataTable) return;\n",
              "\n",
              "          const docLinkHtml = 'Like what you see? Visit the ' +\n",
              "            '<a target=\"_blank\" href=https://colab.research.google.com/notebooks/data_table.ipynb>data table notebook</a>'\n",
              "            + ' to learn more about interactive tables.';\n",
              "          element.innerHTML = '';\n",
              "          dataTable['output_type'] = 'display_data';\n",
              "          await google.colab.output.renderOutput(dataTable, element);\n",
              "          const docLink = document.createElement('div');\n",
              "          docLink.innerHTML = docLinkHtml;\n",
              "          element.appendChild(docLink);\n",
              "        }\n",
              "      </script>\n",
              "    </div>\n",
              "  </div>\n",
              "  "
            ]
          },
          "metadata": {},
          "execution_count": 32
        }
      ]
    },
    {
      "cell_type": "markdown",
      "source": [
        "# **EDA**"
      ],
      "metadata": {
        "id": "bEPk7MtxzcN2"
      }
    },
    {
      "cell_type": "markdown",
      "source": [
        "**Contracting_Authority**"
      ],
      "metadata": {
        "id": "dU-8rq-O26iQ"
      }
    },
    {
      "cell_type": "code",
      "source": [
        "df['Contracting_Authority'].value_counts()"
      ],
      "metadata": {
        "colab": {
          "base_uri": "https://localhost:8080/"
        },
        "id": "CzUMRx3mw5au",
        "outputId": "47381226-efd7-4ca7-fe25-b2ef899ce555"
      },
      "execution_count": 22,
      "outputs": [
        {
          "output_type": "execute_result",
          "data": {
            "text/plain": [
              "Société Béninoise d'Energie Electrique                                44\n",
              "Agence Béninoise d'Electrification Rurale et de Maîtrise d'Energie    33\n",
              "Ministère de l'Energie                                                32\n",
              "Société Nationale de la Mécanisation Agricole                         25\n",
              "Mairie de Parakou                                                     20\n",
              "                                                                      ..\n",
              "Commune de Bohicon                                                     1\n",
              "Société de la POSTE du Bénin                                           1\n",
              "Hôpital de zone Allada-Toffo-Zè                                        1\n",
              "Commune de Bassila                                                     1\n",
              "Autorité de Régulation des Marchés Publics                             1\n",
              "Name: Contracting_Authority, Length: 131, dtype: int64"
            ]
          },
          "metadata": {},
          "execution_count": 22
        }
      ]
    },
    {
      "cell_type": "code",
      "source": [
        "df['Contracting_Authority'].value_counts()[:10].plot(kind='barh')\n",
        "plt.title('Top 10 Contracting_Authority')\n",
        "plt.xlabel('Frequency')\n",
        "plt.ylabel('Contracting_Authority')\n",
        "plt.show()"
      ],
      "metadata": {
        "colab": {
          "base_uri": "https://localhost:8080/",
          "height": 295
        },
        "id": "dWGGbtivw5Xa",
        "outputId": "c7b5e1a3-03e1-44d6-dae7-2e5ad36430a0"
      },
      "execution_count": 23,
      "outputs": [
        {
          "output_type": "display_data",
          "data": {
            "text/plain": [
              "<Figure size 432x288 with 1 Axes>"
            ],
            "image/png": "[encoded data removed]"
          },
          "metadata": {
            "needs_background": "light"
          }
        }
      ]
    },
    {
      "cell_type": "markdown",
      "source": [
        "**Start and End date**\n",
        "\n"
      ],
      "metadata": {
        "id": "cD8fld2R2_cp"
      }
    },
    {
      "cell_type": "code",
      "source": [
        "df['Start_month'].value_counts()[:10].plot(kind='barh')\n",
        "plt.title('Start date distribution')\n",
        "plt.xlabel('Frequency')\n",
        "plt.ylabel('Start month')\n",
        "plt.show()"
      ],
      "metadata": {
        "colab": {
          "base_uri": "https://localhost:8080/",
          "height": 295
        },
        "id": "ycuTEruo07H0",
        "outputId": "5e45765d-141a-4c12-aeab-6d5dfa1fc1b3"
      },
      "execution_count": 34,
      "outputs": [
        {
          "output_type": "display_data",
          "data": {
            "text/plain": [
              "<Figure size 432x288 with 1 Axes>"
            ],
            "image/png": "[encoded data removed]"
          },
          "metadata": {
            "needs_background": "light"
          }
        }
      ]
    },
    {
      "cell_type": "code",
      "source": [
        "df['End_month'].value_counts()[:10].plot(kind='barh')\n",
        "plt.title('End date distribution')\n",
        "plt.xlabel('Frequency')\n",
        "plt.ylabel('End month')\n",
        "plt.show()"
      ],
      "metadata": {
        "colab": {
          "base_uri": "https://localhost:8080/",
          "height": 295
        },
        "id": "OtyfOFSHfegh",
        "outputId": "7e4bd479-5aaf-4c9f-839b-68fe3a852490"
      },
      "execution_count": 36,
      "outputs": [
        {
          "output_type": "display_data",
          "data": {
            "text/plain": [
              "<Figure size 432x288 with 1 Axes>"
            ],
            "image/png": "[encoded data removed]"
          },
          "metadata": {
            "needs_background": "light"
          }
        }
      ]
    },
    {
      "cell_type": "code",
      "source": [
        "plt.figure(figsize=(13,8))\n",
        "i = 1\n",
        "for year in df_current['End_year'].unique():\n",
        "  plt.subplot(1,2,i)\n",
        "  df_current['End_month'][df_current['End_year'] == year].value_counts().plot(kind='barh')\n",
        "  plt.title(f'End month distribution for {year}')\n",
        "  plt.xlabel('Frequency')\n",
        "  plt.ylabel('Month')\n",
        "  i+=1\n",
        "plt.show()"
      ],
      "metadata": {
        "colab": {
          "base_uri": "https://localhost:8080/",
          "height": 513
        },
        "id": "xjQs-4Vk07CP",
        "outputId": "d3e23d41-512a-45d1-ef56-c17e2f08828b"
      },
      "execution_count": 45,
      "outputs": [
        {
          "output_type": "display_data",
          "data": {
            "text/plain": [
              "<Figure size 936x576 with 2 Axes>"
            ],
            "image/png": "[encoded data removed]"
          },
          "metadata": {
            "needs_background": "light"
          }
        }
      ]
    },
    {
      "cell_type": "code",
      "source": [],
      "metadata": {
        "id": "l0ThwMix06_i"
      },
      "execution_count": null,
      "outputs": []
    },
    {
      "cell_type": "markdown",
      "source": [
        "**Title entry**\n",
        "\n",
        "Keywords analysis"
      ],
      "metadata": {
        "id": "rD0Ys7JnifAm"
      }
    },
    {
      "cell_type": "code",
      "source": [
        "# Keywords spliting\n",
        "title_kw_1 = []\n",
        "title_kw_2 = []\n",
        "for i in range(len(df_current['Title_entry_kw_fr'])) :\n",
        "  if len(df_current['Title_entry_kw_fr'][i]) == 0:\n",
        "    title_kw_1.append('Null')\n",
        "    title_kw_2.append('Null')\n",
        "  elif len(df_current['Title_entry_kw_fr'][i]) == 1:  \n",
        "    title_kw_1.append(df_current['Title_entry_kw_fr'][i][0])\n",
        "    title_kw_2.append(df_current['Title_entry_kw_fr'][i][0])\n",
        "  else :\n",
        "    title_kw_1.append(df_current['Title_entry_kw_fr'][i][0])\n",
        "    title_kw_2.append(df_current['Title_entry_kw_fr'][i][1])\n",
        "  "
      ],
      "metadata": {
        "id": "yiwPNfHq0672"
      },
      "execution_count": 78,
      "outputs": []
    },
    {
      "cell_type": "code",
      "source": [
        "title_kw_1 = pd.DataFrame(title_kw_1)\n",
        "title_kw_2 = pd.DataFrame(title_kw_2)"
      ],
      "metadata": {
        "id": "wtbD9fFzrjLi"
      },
      "execution_count": 79,
      "outputs": []
    },
    {
      "cell_type": "code",
      "source": [
        "kw = [title_kw_1, title_kw_2]\n",
        "plt.figure(figsize=(20,8))\n",
        "i = 1\n",
        "for key in kw:\n",
        "  plt.subplot(1,2,i)\n",
        "  key.value_counts()[7:17].plot(kind='barh')\n",
        "  plt.title(f'Title entry keyword {i}')\n",
        "  plt.xlabel('Frequency')\n",
        "  plt.ylabel('Keywords')\n",
        "  i+=1\n",
        "plt.show()"
      ],
      "metadata": {
        "colab": {
          "base_uri": "https://localhost:8080/",
          "height": 395
        },
        "id": "x3kB1RUi064S",
        "outputId": "a3a211c6-4634-48c1-edd3-db70041bce4a"
      },
      "execution_count": 95,
      "outputs": [
        {
          "output_type": "display_data",
          "data": {
            "text/plain": [
              "<Figure size 1440x576 with 2 Axes>"
            ],
            "image/png": "[encoded data removed]"
          },
          "metadata": {
            "needs_background": "light"
          }
        }
      ]
    },
    {
      "cell_type": "code",
      "source": [],
      "metadata": {
        "id": "hMyR6EzHjfwf"
      },
      "execution_count": 6,
      "outputs": []
    },
    {
      "cell_type": "code",
      "source": [
        "df_current['Country'] = 'Benin'\n",
        "df_current['Language'] = 'French'\n",
        "df_current['Portal_URL'] = 'https://marches-publics.bj/appels-doffres'"
      ],
      "metadata": {
        "id": "sYyT2smvjuxx"
      },
      "execution_count": 96,
      "outputs": []
    },
    {
      "cell_type": "code",
      "source": [
        "# to export the data and download it\n",
        "from google.colab import files\n",
        "df_current.to_csv('Final_benin_after_EDA.csv', encoding = 'utf-8-sig') \n",
        "files.download('Final_benin_after_EDA.csv')"
      ],
      "metadata": {
        "colab": {
          "base_uri": "https://localhost:8080/",
          "height": 17
        },
        "id": "AsnIoHCyjIUJ",
        "outputId": "fdaaaa1b-17ef-476b-81c4-c926ad672abb"
      },
      "execution_count": 97,
      "outputs": [
        {
          "output_type": "display_data",
          "data": {
            "text/plain": [
              "<IPython.core.display.Javascript object>"
            ],
            "application/javascript": [
              "\n",
              "    async function download(id, filename, size) {\n",
              "      if (!google.colab.kernel.accessAllowed) {\n",
              "        return;\n",
              "      }\n",
              "      const div = document.createElement('div');\n",
              "      const label = document.createElement('label');\n",
              "      label.textContent = `Downloading \"${filename}\": `;\n",
              "      div.appendChild(label);\n",
              "      const progress = document.createElement('progress');\n",
              "      progress.max = size;\n",
              "      div.appendChild(progress);\n",
              "      document.body.appendChild(div);\n",
              "\n",
              "      const buffers = [];\n",
              "      let downloaded = 0;\n",
              "\n",
              "      const channel = await google.colab.kernel.comms.open(id);\n",
              "      // Send a message to notify the kernel that we're ready.\n",
              "      channel.send({})\n",
              "\n",
              "      for await (const message of channel.messages) {\n",
              "        // Send a message to notify the kernel that we're ready.\n",
              "        channel.send({})\n",
              "        if (message.buffers) {\n",
              "          for (const buffer of message.buffers) {\n",
              "            buffers.push(buffer);\n",
              "            downloaded += buffer.byteLength;\n",
              "            progress.value = downloaded;\n",
              "          }\n",
              "        }\n",
              "      }\n",
              "      const blob = new Blob(buffers, {type: 'application/binary'});\n",
              "      const a = document.createElement('a');\n",
              "      a.href = window.URL.createObjectURL(blob);\n",
              "      a.download = filename;\n",
              "      div.appendChild(a);\n",
              "      a.click();\n",
              "      div.remove();\n",
              "    }\n",
              "  "
            ]
          },
          "metadata": {}
        },
        {
          "output_type": "display_data",
          "data": {
            "text/plain": [
              "<IPython.core.display.Javascript object>"
            ],
            "application/javascript": [
              "download(\"download_e359eeb0-845e-4630-9ee0-662d39f78e32\", \"Final_benin.csv\", 343866)"
            ]
          },
          "metadata": {}
        }
      ]
    }
  ]
}